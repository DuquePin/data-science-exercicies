{
 "cells": [
  {
   "cell_type": "markdown",
   "metadata": {},
   "source": [
    "![Cabec%CC%A7alho_notebook.png](cabecalho_notebook.png)"
   ]
  },
  {
   "cell_type": "markdown",
   "metadata": {},
   "source": [
    "# PCA - Tarefa 01: *HAR* com PCA\n",
    "\n",
    "Vamos trabalhar com a base da demonstração feita em aula, mas vamos explorar um pouco melhor como é o desempenho da árvore variando o número de componentes principais."
   ]
  },
  {
   "cell_type": "code",
   "execution_count": 2,
   "metadata": {},
   "outputs": [],
   "source": [
    "# Importando bibliotecas\n",
    "import pandas as pd\n",
    "\n",
    "from sklearn.tree import DecisionTreeClassifier\n",
    "from sklearn.decomposition import PCA\n",
    "from sklearn.metrics import accuracy_score\n",
    "from sklearn.model_selection import train_test_split, cross_val_score, GridSearchCV\n",
    "\n",
    "from timeit import timeit"
   ]
  },
  {
   "cell_type": "code",
   "execution_count": 3,
   "metadata": {},
   "outputs": [],
   "source": [
    "# Definindo caminho dos dados\n",
    "filename_features = \"../Mod_16/data_tarefa_1/UCI HAR Dataset/features.txt\"\n",
    "filename_labels = \"../Mod_16/data_tarefa_1/UCI HAR Dataset/activity_labels.txt\"\n",
    "\n",
    "filename_subtrain = \"../Mod_16/data_tarefa_1/UCI HAR Dataset/train/subject_train.txt\"\n",
    "filename_xtrain = \"../Mod_16/data_tarefa_1/UCI HAR Dataset/train/X_train.txt\"\n",
    "filename_ytrain = \"../Mod_16/data_tarefa_1/UCI HAR Dataset/train/y_train.txt\"\n",
    "\n",
    "filename_subtest = \"../Mod_16/data_tarefa_1/UCI HAR Dataset/test/subject_test.txt\"\n",
    "ffilename_xtest = \"../Mod_16/data_tarefa_1/UCI HAR Dataset/test/X_test.txt\"\n",
    "filename_ytest = \"../Mod_16/data_tarefa_1/UCI HAR Dataset/test/y_test.txt\"\n",
    "\n",
    "# Lendo dados\n",
    "features = pd.read_csv(filename_features, header=None, names=['nome_var'], sep=\"#\")\n",
    "labels = pd.read_csv(filename_labels, sep=r'\\s+', header=None, names=['cod_label', 'label'])\n",
    "\n",
    "subject_train = pd.read_csv(filename_subtrain, header=None, names=['subject_id'])\n",
    "X_train = pd.read_csv(filename_xtrain, sep=r'\\s+', header=None, names=features['nome_var'].tolist())\n",
    "y_train = pd.read_csv(filename_ytrain, header=None, names=['cod_label'])\n",
    "\n",
    "subject_test = pd.read_csv(filename_subtest, header=None, names=['subject_id'])\n",
    "X_test = pd.read_csv(ffilename_xtest, sep=r'\\s+', header=None, names=features['nome_var'].tolist())\n",
    "y_test = pd.read_csv(filename_ytest, header=None, names=['cod_label'])\n",
    "\n",
    "# Repartindo base de dados para criar base de validação\n",
    "X_train, X_valid, y_train, y_valid = train_test_split(X_train, y_train, test_size=.4)"
   ]
  },
  {
   "cell_type": "code",
   "execution_count": 4,
   "metadata": {},
   "outputs": [
    {
     "name": "stdout",
     "output_type": "stream",
     "text": [
      "Tamanho base de treino: (4411, 561)\n",
      "Tamanho base de validação: (2941, 561)\n",
      "Tamanho base de teste: (2947, 561)\n"
     ]
    }
   ],
   "source": [
    "# Visualizando tamanho das bases \n",
    "print(f'Tamanho base de treino: {X_train.shape}')\n",
    "print(f'Tamanho base de validação: {X_valid.shape}')\n",
    "print(f'Tamanho base de teste: {X_test.shape}')"
   ]
  },
  {
   "cell_type": "markdown",
   "metadata": {},
   "source": [
    "## Árvore de decisão\n",
    "\n",
    "Rode uma árvore de decisão com todas as variáveis, utilizando o ```ccp_alpha=0.001```. Avalie a acurácia nas bases de treinamento e teste. Avalie o tempo de processamento."
   ]
  },
  {
   "cell_type": "code",
   "execution_count": 6,
   "metadata": {},
   "outputs": [
    {
     "name": "stdout",
     "output_type": "stream",
     "text": [
      "Melhor acurácia na base de treino: 93.20%\n",
      "Melhor acurácia na base de validação: 93.20%\n",
      "Melhor acurácia na base de teste: 87.95%\n",
      "CPU times: total: 22.1 s\n",
      "Wall time: 22.1 s\n"
     ]
    }
   ],
   "source": [
    "%%time\n",
    "\n",
    "# Criando objeto de árvore de classificação\n",
    "clf = DecisionTreeClassifier(random_state=412, ccp_alpha=.001)\n",
    "\n",
    "# Treinando o modelo\n",
    "trained_model = clf.fit(X_train, y_train)\n",
    "\n",
    "# Avaliando o modelo nas 3 bases\n",
    "train_score = cross_val_score(trained_model, X_train, y_train, cv=5, scoring='accuracy')\n",
    "valid_score = cross_val_score(trained_model, X_valid, y_valid, cv=5, scoring='accuracy')\n",
    "test_score = cross_val_score(trained_model, X_test, y_test, cv=5, scoring='accuracy')\n",
    "\n",
    "# Visualizando melhor acurácia em cada base\n",
    "print(f'Melhor acurácia na base de treino: {train_score.max()*100:.2f}%')\n",
    "print(f'Melhor acurácia na base de validação: {valid_score.max()*100:.2f}%')\n",
    "print(f'Melhor acurácia na base de teste: {test_score.max()*100:.2f}%')"
   ]
  },
  {
   "cell_type": "markdown",
   "metadata": {},
   "source": [
    "### Observações\n",
    "O algoritmo acima apresentou um tempo de execução considerável para processar todas as árvores, alcançando uma acurácia de aproximadamente 88% na base de teste. No entanto, em uma aplicação real, essa demora pode impactar significativamente o fluxo do sistema em que o modelo será integrado. Caso o desempenho do modelo cause latência elevada, isso poderá rapidamente se tornar um problema crítico, comprometendo a eficiência e a experiência do usuário."
   ]
  },
  {
   "cell_type": "markdown",
   "metadata": {},
   "source": [
    "## Árvore com PCA\n",
    "\n",
    "Faça uma análise de componentes principais das variáveis originais. Utilize apenas uma componente. Faça uma árvore de decisão com esta componente como variável explicativa.\n",
    "\n",
    "- Avalie a acurácia nas bases de treinamento e teste\n",
    "- Avalie o tempo de processamento"
   ]
  },
  {
   "cell_type": "code",
   "execution_count": 7,
   "metadata": {},
   "outputs": [],
   "source": [
    "# Função para rodar análise de componentes principais\n",
    "def run_pca(estimator, n_components, *args):\n",
    "    # Extração dos parâmetros\n",
    "    pc_train, pc_valid, pc_test, y_train, y_valid, y_test = args\n",
    "    # Definindo nome das colunas\n",
    "    cols = ['cp'+str(x+1) for x in list(range(n_components))]\n",
    "\n",
    "    # Selecionando componentes para treinar e avaliar o modelo\n",
    "    pc_train_selected = pd.DataFrame(pc_train[:,:n_components], columns=cols)\n",
    "    pc_valid_selected = pd.DataFrame(pc_valid[:,:n_components], columns=cols)\n",
    "    pc_test_selected = pd.DataFrame(pc_test[:,:n_components], columns=cols)\n",
    "\n",
    "    # Treinando o modelo\n",
    "    trained_model_pca = estimator.fit(pc_train, y_train)\n",
    "\n",
    "    # Avaliando o modelo nas bases\n",
    "    train_score_pca = cross_val_score(trained_model_pca, pc_train_selected, y_train, cv=5, scoring='accuracy')\n",
    "    valid_score_pca = cross_val_score(trained_model_pca, pc_valid_selected, y_valid, cv=5, scoring='accuracy')\n",
    "    test_score_pca = cross_val_score(trained_model_pca, pc_test_selected, y_test, cv=5, scoring='accuracy')\n",
    "\n",
    "    return train_score_pca, valid_score_pca, test_score_pca"
   ]
  },
  {
   "cell_type": "code",
   "execution_count": 9,
   "metadata": {},
   "outputs": [
    {
     "name": "stdout",
     "output_type": "stream",
     "text": [
      "Melhor acurácia na base de treino: 49.38%\n",
      "Melhor acurácia na base de validação: 49.92%\n",
      "Melhor acurácia na base de teste: 49.83%\n",
      "CPU times: total: 5.31 s\n",
      "Wall time: 3.12 s\n"
     ]
    }
   ],
   "source": [
    "%%time\n",
    "\n",
    "# Criando objeto PCA e treinando-o\n",
    "prcomp = PCA().fit(X_train)\n",
    "\n",
    "# Criando matrizes de autovalores\n",
    "pc_train = prcomp.transform(X_train)\n",
    "pc_valid = prcomp.transform(X_valid)\n",
    "pc_test = prcomp.transform(X_test)\n",
    "\n",
    "# Rodando PCA com as matrizes criadas\n",
    "train_score_pca, valid_score_pca, test_score_pca = run_pca(clf\n",
    "                                                           ,1\n",
    "                                                           ,pc_train\n",
    "                                                           ,pc_valid\n",
    "                                                           ,pc_test\n",
    "                                                           ,y_train\n",
    "                                                           ,y_valid\n",
    "                                                           ,y_test)\n",
    "\n",
    "# Visualizando melhor acurácia em cada base\n",
    "print(f'Melhor acurácia na base de treino: {train_score_pca.max()*100:.2f}%')\n",
    "print(f'Melhor acurácia na base de validação: {valid_score_pca.max()*100:.2f}%')\n",
    "print(f'Melhor acurácia na base de teste: {test_score_pca.max()*100:.2f}%')"
   ]
  },
  {
   "cell_type": "markdown",
   "metadata": {},
   "source": [
    "Como é possível observar acima, utilizando apenas um componente a acurácia na base de testes caiu consideravelmente, de 88% para 50%, no entanto, o tempo de execução do algoritmo também reduziu de forma considerável."
   ]
  },
  {
   "cell_type": "markdown",
   "metadata": {},
   "source": [
    "## Testando o número de componentes\n",
    "\n",
    "Com base no código acima, teste a árvore de classificação com pelo menos as seguintes possibilidades de quantidades de componentes: ```[1, 2, 5, 10, 50]```. Avalie para cada uma delas:\n",
    "\n",
    "- Acurácia nas bases de treino e teste\n",
    "- Tempo de processamento\n"
   ]
  },
  {
   "cell_type": "code",
   "execution_count": 10,
   "metadata": {},
   "outputs": [
    {
     "name": "stdout",
     "output_type": "stream",
     "text": [
      "Para um modelo PCA com 1_components, a acurácia na base de teste é igual a 49.83% e o tempo de execução é igual a 2.71 segundos.\n",
      "Para um modelo PCA com 2_components, a acurácia na base de teste é igual a 61.97% e o tempo de execução é igual a 2.77 segundos.\n",
      "Para um modelo PCA com 5_components, a acurácia na base de teste é igual a 77.25% e o tempo de execução é igual a 2.82 segundos.\n",
      "Para um modelo PCA com 10_components, a acurácia na base de teste é igual a 84.24% e o tempo de execução é igual a 3.05 segundos.\n",
      "Para um modelo PCA com 50_components, a acurácia na base de teste é igual a 84.89% e o tempo de execução é igual a 4.75 segundos.\n",
      "CPU times: total: 32.2 s\n",
      "Wall time: 32.2 s\n"
     ]
    }
   ],
   "source": [
    "%%time\n",
    "\n",
    "# Criando dicionário para armezenar melhores acurácias e tempo de execução\n",
    "scores = dict()\n",
    "\n",
    "# Iterando o número de componentes\n",
    "for n in [1, 2, 5, 10, 50]:\n",
    "    # Rodando PCA e avaliando nas três bases\n",
    "    tr_s, vl_s, ts_s = run_pca(clf, n, pc_train, pc_valid, pc_test, y_train, y_valid, y_test)\n",
    "    # Coletando tempo de execução do algoritmo\n",
    "    execution_time = timeit(stmt='run_pca(clf, n, pc_train, pc_valid, pc_test, y_train, y_valid, y_test)', globals=globals(),  number=1)\n",
    "    # Salvando dados no dicionário\n",
    "    scores[f'{n}_components'] = [tr_s.max(), vl_s.max(), ts_s.max(), execution_time]\n",
    "\n",
    "# Visualizando melhor acurácia na base de teste com tempo de execução por número de componentes\n",
    "for n in scores:\n",
    "    print(f'Para um modelo PCA com {n}, a acurácia na base de teste é igual a {scores[n][2]*100:.2f}% e o tempo de execução é igual a {scores[n][-1]:.2f} segundos.')"
   ]
  },
  {
   "cell_type": "markdown",
   "metadata": {},
   "source": [
    "Como é possível observar, conforme o número de componentes utilizados aumenta, aumenta-se consideravelmente a acurácia do modelo e o tempo de execução do mesmo permanece relativamente pequeno, comparado aos testes anteriores. "
   ]
  },
  {
   "cell_type": "markdown",
   "metadata": {},
   "source": [
    "## Conclua\n",
    "\n",
    "- O que aconteceu com a acurácia?\n",
    "- O que aconteceu com o tempo de processamento?"
   ]
  },
  {
   "cell_type": "markdown",
   "metadata": {},
   "source": [
    "Conforme o número de componentes utilizados **aumenta**, a acurácia do modelo sofre uma melhora significativa, enquanto o tempo de processamento permanece relativamente baixo. Portanto, a abordagem de modelagem com PCA se prova melhor para implementação que lidam com muitas variáveis e requerem um tempo otimizado de execução."
   ]
  }
 ],
 "metadata": {
  "kernelspec": {
   "display_name": "Python 3 (ipykernel)",
   "language": "python",
   "name": "python3"
  },
  "language_info": {
   "codemirror_mode": {
    "name": "ipython",
    "version": 3
   },
   "file_extension": ".py",
   "mimetype": "text/x-python",
   "name": "python",
   "nbconvert_exporter": "python",
   "pygments_lexer": "ipython3",
   "version": "3.12.3"
  },
  "toc": {
   "base_numbering": 1,
   "nav_menu": {},
   "number_sections": true,
   "sideBar": true,
   "skip_h1_title": true,
   "title_cell": "Índice",
   "title_sidebar": "Conteúdo",
   "toc_cell": false,
   "toc_position": {},
   "toc_section_display": true,
   "toc_window_display": false
  },
  "varInspector": {
   "cols": {
    "lenName": 16,
    "lenType": 16,
    "lenVar": 40
   },
   "kernels_config": {
    "python": {
     "delete_cmd_postfix": "",
     "delete_cmd_prefix": "del ",
     "library": "var_list.py",
     "varRefreshCmd": "print(var_dic_list())"
    },
    "r": {
     "delete_cmd_postfix": ") ",
     "delete_cmd_prefix": "rm(",
     "library": "var_list.r",
     "varRefreshCmd": "cat(var_dic_list()) "
    }
   },
   "types_to_exclude": [
    "module",
    "function",
    "builtin_function_or_method",
    "instance",
    "_Feature"
   ],
   "window_display": false
  }
 },
 "nbformat": 4,
 "nbformat_minor": 4
}
