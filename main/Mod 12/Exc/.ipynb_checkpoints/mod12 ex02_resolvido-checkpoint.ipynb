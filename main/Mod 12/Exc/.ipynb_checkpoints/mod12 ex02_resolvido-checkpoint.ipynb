{
 "cells": [
  {
   "cell_type": "markdown",
   "metadata": {},
   "source": [
    "# Regressão 01 - tarefa 02 - transformações em X e Y"
   ]
  },
  {
   "cell_type": "markdown",
   "metadata": {},
   "source": [
    "### 1. Melhorando o ajuste no percentual de gorjetas\n",
    "\n",
    "a. Vamos partir do modelo feito na última tarefa, o que relaciona ```tip_pct``` e ```net_bill```. Carregue a base, os pacotes e reproduza este modelo aqui."
   ]
  },
  {
   "cell_type": "code",
   "execution_count": 1,
   "metadata": {},
   "outputs": [],
   "source": [
    "import pandas as pd\n",
    "import numpy as np\n",
    "\n",
    "import seaborn as sns\n",
    "import matplotlib.pyplot as plt\n",
    "\n",
    "import statsmodels.formula.api as smf"
   ]
  },
  {
   "cell_type": "code",
   "execution_count": 7,
   "metadata": {},
   "outputs": [
    {
     "data": {
      "text/html": [
       "<div>\n",
       "<style scoped>\n",
       "    .dataframe tbody tr th:only-of-type {\n",
       "        vertical-align: middle;\n",
       "    }\n",
       "\n",
       "    .dataframe tbody tr th {\n",
       "        vertical-align: top;\n",
       "    }\n",
       "\n",
       "    .dataframe thead th {\n",
       "        text-align: right;\n",
       "    }\n",
       "</style>\n",
       "<table border=\"1\" class=\"dataframe\">\n",
       "  <thead>\n",
       "    <tr style=\"text-align: right;\">\n",
       "      <th></th>\n",
       "      <th>total_bill</th>\n",
       "      <th>tip</th>\n",
       "      <th>sex</th>\n",
       "      <th>smoker</th>\n",
       "      <th>day</th>\n",
       "      <th>time</th>\n",
       "      <th>size</th>\n",
       "      <th>tip_pct</th>\n",
       "      <th>net_bill</th>\n",
       "    </tr>\n",
       "  </thead>\n",
       "  <tbody>\n",
       "    <tr>\n",
       "      <th>0</th>\n",
       "      <td>16.99</td>\n",
       "      <td>1.01</td>\n",
       "      <td>Female</td>\n",
       "      <td>No</td>\n",
       "      <td>Sun</td>\n",
       "      <td>Dinner</td>\n",
       "      <td>2</td>\n",
       "      <td>0.059447</td>\n",
       "      <td>15.98</td>\n",
       "    </tr>\n",
       "    <tr>\n",
       "      <th>1</th>\n",
       "      <td>10.34</td>\n",
       "      <td>1.66</td>\n",
       "      <td>Male</td>\n",
       "      <td>No</td>\n",
       "      <td>Sun</td>\n",
       "      <td>Dinner</td>\n",
       "      <td>3</td>\n",
       "      <td>0.160542</td>\n",
       "      <td>8.68</td>\n",
       "    </tr>\n",
       "    <tr>\n",
       "      <th>2</th>\n",
       "      <td>21.01</td>\n",
       "      <td>3.50</td>\n",
       "      <td>Male</td>\n",
       "      <td>No</td>\n",
       "      <td>Sun</td>\n",
       "      <td>Dinner</td>\n",
       "      <td>3</td>\n",
       "      <td>0.166587</td>\n",
       "      <td>17.51</td>\n",
       "    </tr>\n",
       "    <tr>\n",
       "      <th>3</th>\n",
       "      <td>23.68</td>\n",
       "      <td>3.31</td>\n",
       "      <td>Male</td>\n",
       "      <td>No</td>\n",
       "      <td>Sun</td>\n",
       "      <td>Dinner</td>\n",
       "      <td>2</td>\n",
       "      <td>0.139780</td>\n",
       "      <td>20.37</td>\n",
       "    </tr>\n",
       "    <tr>\n",
       "      <th>4</th>\n",
       "      <td>24.59</td>\n",
       "      <td>3.61</td>\n",
       "      <td>Female</td>\n",
       "      <td>No</td>\n",
       "      <td>Sun</td>\n",
       "      <td>Dinner</td>\n",
       "      <td>4</td>\n",
       "      <td>0.146808</td>\n",
       "      <td>20.98</td>\n",
       "    </tr>\n",
       "  </tbody>\n",
       "</table>\n",
       "</div>"
      ],
      "text/plain": [
       "   total_bill   tip     sex smoker  day    time  size   tip_pct  net_bill\n",
       "0       16.99  1.01  Female     No  Sun  Dinner     2  0.059447     15.98\n",
       "1       10.34  1.66    Male     No  Sun  Dinner     3  0.160542      8.68\n",
       "2       21.01  3.50    Male     No  Sun  Dinner     3  0.166587     17.51\n",
       "3       23.68  3.31    Male     No  Sun  Dinner     2  0.139780     20.37\n",
       "4       24.59  3.61  Female     No  Sun  Dinner     4  0.146808     20.98"
      ]
     },
     "execution_count": 7,
     "metadata": {},
     "output_type": "execute_result"
    }
   ],
   "source": [
    "tips = sns.load_dataset('tips')\n",
    "tips['tip_pct'] = tips['tip'] / tips['total_bill'] \n",
    "tips['net_bill'] = tips['total_bill'] - tips['tip']\n",
    "tips.head()"
   ]
  },
  {
   "cell_type": "code",
   "execution_count": 8,
   "metadata": {},
   "outputs": [
    {
     "data": {
      "text/plain": [
       "<Axes: xlabel='tip'>"
      ]
     },
     "execution_count": 8,
     "metadata": {},
     "output_type": "execute_result"
    },
    {
     "data": {
      "image/png": "[encoded data removed]",
      "text/plain": [
       "<Figure size 640x480 with 1 Axes>"
      ]
     },
     "metadata": {},
     "output_type": "display_data"
    }
   ],
   "source": [
    "sns.boxplot(data=tips, x='tip')"
   ]
  },
  {
   "cell_type": "code",
   "execution_count": 9,
   "metadata": {},
   "outputs": [
    {
     "data": {
      "text/plain": [
       "<Axes: xlabel='tip'>"
      ]
     },
     "execution_count": 9,
     "metadata": {},
     "output_type": "execute_result"
    },
    {
     "data": {
      "image/png": "[encoded data removed]",
      "text/plain": [
       "<Figure size 640x480 with 1 Axes>"
      ]
     },
     "metadata": {},
     "output_type": "display_data"
    }
   ],
   "source": [
    "tips['tip'] = [tip if tip <= 5 else np.nan for tip in tips['tip']]\n",
    "tips.dropna(inplace=True)\n",
    "sns.boxplot(data=tips, x='tip')"
   ]
  },
  {
   "cell_type": "code",
   "execution_count": 13,
   "metadata": {},
   "outputs": [
    {
     "data": {
      "text/html": [
       "<table class=\"simpletable\">\n",
       "<caption>OLS Regression Results</caption>\n",
       "<tr>\n",
       "  <th>Dep. Variable:</th>           <td>tip</td>       <th>  R-squared:         </th> <td>   0.996</td> \n",
       "</tr>\n",
       "<tr>\n",
       "  <th>Model:</th>                   <td>OLS</td>       <th>  Adj. R-squared:    </th> <td>   0.996</td> \n",
       "</tr>\n",
       "<tr>\n",
       "  <th>Method:</th>             <td>Least Squares</td>  <th>  F-statistic:       </th> <td>1.832e+04</td>\n",
       "</tr>\n",
       "<tr>\n",
       "  <th>Date:</th>             <td>Fri, 14 Jun 2024</td> <th>  Prob (F-statistic):</th> <td>1.48e-265</td>\n",
       "</tr>\n",
       "<tr>\n",
       "  <th>Time:</th>                 <td>09:30:29</td>     <th>  Log-Likelihood:    </th> <td>  303.42</td> \n",
       "</tr>\n",
       "<tr>\n",
       "  <th>No. Observations:</th>      <td>   226</td>      <th>  AIC:               </th> <td>  -598.8</td> \n",
       "</tr>\n",
       "<tr>\n",
       "  <th>Df Residuals:</th>          <td>   222</td>      <th>  BIC:               </th> <td>  -585.1</td> \n",
       "</tr>\n",
       "<tr>\n",
       "  <th>Df Model:</th>              <td>     3</td>      <th>                     </th>     <td> </td>    \n",
       "</tr>\n",
       "<tr>\n",
       "  <th>Covariance Type:</th>      <td>nonrobust</td>    <th>                     </th>     <td> </td>    \n",
       "</tr>\n",
       "</table>\n",
       "<table class=\"simpletable\">\n",
       "<tr>\n",
       "          <td></td>            <th>coef</th>     <th>std err</th>      <th>t</th>      <th>P>|t|</th>  <th>[0.025</th>    <th>0.975]</th>  \n",
       "</tr>\n",
       "<tr>\n",
       "  <th>Intercept</th>        <td>   -0.4634</td> <td>    0.029</td> <td>  -15.730</td> <td> 0.000</td> <td>   -0.521</td> <td>   -0.405</td>\n",
       "</tr>\n",
       "<tr>\n",
       "  <th>tip_pct</th>          <td>    3.1512</td> <td>    0.172</td> <td>   18.339</td> <td> 0.000</td> <td>    2.813</td> <td>    3.490</td>\n",
       "</tr>\n",
       "<tr>\n",
       "  <th>net_bill</th>         <td>   -0.0019</td> <td>    0.001</td> <td>   -1.339</td> <td> 0.182</td> <td>   -0.005</td> <td>    0.001</td>\n",
       "</tr>\n",
       "<tr>\n",
       "  <th>tip_pct:net_bill</th> <td>    1.1942</td> <td>    0.011</td> <td>  106.773</td> <td> 0.000</td> <td>    1.172</td> <td>    1.216</td>\n",
       "</tr>\n",
       "</table>\n",
       "<table class=\"simpletable\">\n",
       "<tr>\n",
       "  <th>Omnibus:</th>       <td>78.046</td> <th>  Durbin-Watson:     </th> <td>   2.059</td> \n",
       "</tr>\n",
       "<tr>\n",
       "  <th>Prob(Omnibus):</th> <td> 0.000</td> <th>  Jarque-Bera (JB):  </th> <td>1068.795</td> \n",
       "</tr>\n",
       "<tr>\n",
       "  <th>Skew:</th>          <td> 0.899</td> <th>  Prob(JB):          </th> <td>8.20e-233</td>\n",
       "</tr>\n",
       "<tr>\n",
       "  <th>Kurtosis:</th>      <td>13.501</td> <th>  Cond. No.          </th> <td>    735.</td> \n",
       "</tr>\n",
       "</table><br/><br/>Notes:<br/>[1] Standard Errors assume that the covariance matrix of the errors is correctly specified."
      ],
      "text/latex": [
       "\\begin{center}\n",
       "\\begin{tabular}{lclc}\n",
       "\\toprule\n",
       "\\textbf{Dep. Variable:}     &       tip        & \\textbf{  R-squared:         } &     0.996   \\\\\n",
       "\\textbf{Model:}             &       OLS        & \\textbf{  Adj. R-squared:    } &     0.996   \\\\\n",
       "\\textbf{Method:}            &  Least Squares   & \\textbf{  F-statistic:       } & 1.832e+04   \\\\\n",
       "\\textbf{Date:}              & Fri, 14 Jun 2024 & \\textbf{  Prob (F-statistic):} & 1.48e-265   \\\\\n",
       "\\textbf{Time:}              &     09:30:29     & \\textbf{  Log-Likelihood:    } &    303.42   \\\\\n",
       "\\textbf{No. Observations:}  &         226      & \\textbf{  AIC:               } &    -598.8   \\\\\n",
       "\\textbf{Df Residuals:}      &         222      & \\textbf{  BIC:               } &    -585.1   \\\\\n",
       "\\textbf{Df Model:}          &           3      & \\textbf{                     } &             \\\\\n",
       "\\textbf{Covariance Type:}   &    nonrobust     & \\textbf{                     } &             \\\\\n",
       "\\bottomrule\n",
       "\\end{tabular}\n",
       "\\begin{tabular}{lcccccc}\n",
       "                            & \\textbf{coef} & \\textbf{std err} & \\textbf{t} & \\textbf{P$> |$t$|$} & \\textbf{[0.025} & \\textbf{0.975]}  \\\\\n",
       "\\midrule\n",
       "\\textbf{Intercept}          &      -0.4634  &        0.029     &   -15.730  &         0.000        &       -0.521    &       -0.405     \\\\\n",
       "\\textbf{tip\\_pct}           &       3.1512  &        0.172     &    18.339  &         0.000        &        2.813    &        3.490     \\\\\n",
       "\\textbf{net\\_bill}          &      -0.0019  &        0.001     &    -1.339  &         0.182        &       -0.005    &        0.001     \\\\\n",
       "\\textbf{tip\\_pct:net\\_bill} &       1.1942  &        0.011     &   106.773  &         0.000        &        1.172    &        1.216     \\\\\n",
       "\\bottomrule\n",
       "\\end{tabular}\n",
       "\\begin{tabular}{lclc}\n",
       "\\textbf{Omnibus:}       & 78.046 & \\textbf{  Durbin-Watson:     } &     2.059  \\\\\n",
       "\\textbf{Prob(Omnibus):} &  0.000 & \\textbf{  Jarque-Bera (JB):  } &  1068.795  \\\\\n",
       "\\textbf{Skew:}          &  0.899 & \\textbf{  Prob(JB):          } & 8.20e-233  \\\\\n",
       "\\textbf{Kurtosis:}      & 13.501 & \\textbf{  Cond. No.          } &      735.  \\\\\n",
       "\\bottomrule\n",
       "\\end{tabular}\n",
       "%\\caption{OLS Regression Results}\n",
       "\\end{center}\n",
       "\n",
       "Notes: \\newline\n",
       " [1] Standard Errors assume that the covariance matrix of the errors is correctly specified."
      ],
      "text/plain": [
       "<class 'statsmodels.iolib.summary.Summary'>\n",
       "\"\"\"\n",
       "                            OLS Regression Results                            \n",
       "==============================================================================\n",
       "Dep. Variable:                    tip   R-squared:                       0.996\n",
       "Model:                            OLS   Adj. R-squared:                  0.996\n",
       "Method:                 Least Squares   F-statistic:                 1.832e+04\n",
       "Date:                Fri, 14 Jun 2024   Prob (F-statistic):          1.48e-265\n",
       "Time:                        09:30:29   Log-Likelihood:                 303.42\n",
       "No. Observations:                 226   AIC:                            -598.8\n",
       "Df Residuals:                     222   BIC:                            -585.1\n",
       "Df Model:                           3                                         \n",
       "Covariance Type:            nonrobust                                         \n",
       "====================================================================================\n",
       "                       coef    std err          t      P>|t|      [0.025      0.975]\n",
       "------------------------------------------------------------------------------------\n",
       "Intercept           -0.4634      0.029    -15.730      0.000      -0.521      -0.405\n",
       "tip_pct              3.1512      0.172     18.339      0.000       2.813       3.490\n",
       "net_bill            -0.0019      0.001     -1.339      0.182      -0.005       0.001\n",
       "tip_pct:net_bill     1.1942      0.011    106.773      0.000       1.172       1.216\n",
       "==============================================================================\n",
       "Omnibus:                       78.046   Durbin-Watson:                   2.059\n",
       "Prob(Omnibus):                  0.000   Jarque-Bera (JB):             1068.795\n",
       "Skew:                           0.899   Prob(JB):                    8.20e-233\n",
       "Kurtosis:                      13.501   Cond. No.                         735.\n",
       "==============================================================================\n",
       "\n",
       "Notes:\n",
       "[1] Standard Errors assume that the covariance matrix of the errors is correctly specified.\n",
       "\"\"\""
      ]
     },
     "execution_count": 13,
     "metadata": {},
     "output_type": "execute_result"
    }
   ],
   "source": [
    "reg1 = smf.ols('tip ~ tip_pct * net_bill', data=tips).fit()\n",
    "reg1.summary()"
   ]
  },
  {
   "cell_type": "markdown",
   "metadata": {},
   "source": [
    "### 2. ajuste o modelo de ```tip_pct``` em função do logaritmo de ```net_bill```."
   ]
  },
  {
   "cell_type": "code",
   "execution_count": 14,
   "metadata": {},
   "outputs": [
    {
     "data": {
      "text/html": [
       "<table class=\"simpletable\">\n",
       "<caption>OLS Regression Results</caption>\n",
       "<tr>\n",
       "  <th>Dep. Variable:</th>           <td>tip</td>       <th>  R-squared:         </th> <td>   0.946</td> \n",
       "</tr>\n",
       "<tr>\n",
       "  <th>Model:</th>                   <td>OLS</td>       <th>  Adj. R-squared:    </th> <td>   0.945</td> \n",
       "</tr>\n",
       "<tr>\n",
       "  <th>Method:</th>             <td>Least Squares</td>  <th>  F-statistic:       </th> <td>   1285.</td> \n",
       "</tr>\n",
       "<tr>\n",
       "  <th>Date:</th>             <td>Fri, 14 Jun 2024</td> <th>  Prob (F-statistic):</th> <td>5.74e-140</td>\n",
       "</tr>\n",
       "<tr>\n",
       "  <th>Time:</th>                 <td>09:30:57</td>     <th>  Log-Likelihood:    </th> <td>  8.9997</td> \n",
       "</tr>\n",
       "<tr>\n",
       "  <th>No. Observations:</th>      <td>   226</td>      <th>  AIC:               </th> <td>  -9.999</td> \n",
       "</tr>\n",
       "<tr>\n",
       "  <th>Df Residuals:</th>          <td>   222</td>      <th>  BIC:               </th> <td>   3.683</td> \n",
       "</tr>\n",
       "<tr>\n",
       "  <th>Df Model:</th>              <td>     3</td>      <th>                     </th>     <td> </td>    \n",
       "</tr>\n",
       "<tr>\n",
       "  <th>Covariance Type:</th>      <td>nonrobust</td>    <th>                     </th>     <td> </td>    \n",
       "</tr>\n",
       "</table>\n",
       "<table class=\"simpletable\">\n",
       "<tr>\n",
       "              <td></td>                <th>coef</th>     <th>std err</th>      <th>t</th>      <th>P>|t|</th>  <th>[0.025</th>    <th>0.975]</th>  \n",
       "</tr>\n",
       "<tr>\n",
       "  <th>Intercept</th>                <td>   -5.1924</td> <td>    0.242</td> <td>  -21.429</td> <td> 0.000</td> <td>   -5.670</td> <td>   -4.715</td>\n",
       "</tr>\n",
       "<tr>\n",
       "  <th>tip_pct</th>                  <td>    7.6428</td> <td>    1.242</td> <td>    6.152</td> <td> 0.000</td> <td>    5.195</td> <td>   10.091</td>\n",
       "</tr>\n",
       "<tr>\n",
       "  <th>np.log(net_bill)</th>         <td>    1.7884</td> <td>    0.083</td> <td>   21.627</td> <td> 0.000</td> <td>    1.625</td> <td>    1.951</td>\n",
       "</tr>\n",
       "<tr>\n",
       "  <th>tip_pct:np.log(net_bill)</th> <td>    4.8193</td> <td>    0.472</td> <td>   10.204</td> <td> 0.000</td> <td>    3.889</td> <td>    5.750</td>\n",
       "</tr>\n",
       "</table>\n",
       "<table class=\"simpletable\">\n",
       "<tr>\n",
       "  <th>Omnibus:</th>       <td>96.383</td> <th>  Durbin-Watson:     </th> <td>   2.091</td>\n",
       "</tr>\n",
       "<tr>\n",
       "  <th>Prob(Omnibus):</th> <td> 0.000</td> <th>  Jarque-Bera (JB):  </th> <td> 386.188</td>\n",
       "</tr>\n",
       "<tr>\n",
       "  <th>Skew:</th>          <td> 1.726</td> <th>  Prob(JB):          </th> <td>1.38e-84</td>\n",
       "</tr>\n",
       "<tr>\n",
       "  <th>Kurtosis:</th>      <td> 8.394</td> <th>  Cond. No.          </th> <td>    251.</td>\n",
       "</tr>\n",
       "</table><br/><br/>Notes:<br/>[1] Standard Errors assume that the covariance matrix of the errors is correctly specified."
      ],
      "text/latex": [
       "\\begin{center}\n",
       "\\begin{tabular}{lclc}\n",
       "\\toprule\n",
       "\\textbf{Dep. Variable:}             &       tip        & \\textbf{  R-squared:         } &     0.946   \\\\\n",
       "\\textbf{Model:}                     &       OLS        & \\textbf{  Adj. R-squared:    } &     0.945   \\\\\n",
       "\\textbf{Method:}                    &  Least Squares   & \\textbf{  F-statistic:       } &     1285.   \\\\\n",
       "\\textbf{Date:}                      & Fri, 14 Jun 2024 & \\textbf{  Prob (F-statistic):} & 5.74e-140   \\\\\n",
       "\\textbf{Time:}                      &     09:30:57     & \\textbf{  Log-Likelihood:    } &    8.9997   \\\\\n",
       "\\textbf{No. Observations:}          &         226      & \\textbf{  AIC:               } &    -9.999   \\\\\n",
       "\\textbf{Df Residuals:}              &         222      & \\textbf{  BIC:               } &     3.683   \\\\\n",
       "\\textbf{Df Model:}                  &           3      & \\textbf{                     } &             \\\\\n",
       "\\textbf{Covariance Type:}           &    nonrobust     & \\textbf{                     } &             \\\\\n",
       "\\bottomrule\n",
       "\\end{tabular}\n",
       "\\begin{tabular}{lcccccc}\n",
       "                                    & \\textbf{coef} & \\textbf{std err} & \\textbf{t} & \\textbf{P$> |$t$|$} & \\textbf{[0.025} & \\textbf{0.975]}  \\\\\n",
       "\\midrule\n",
       "\\textbf{Intercept}                  &      -5.1924  &        0.242     &   -21.429  &         0.000        &       -5.670    &       -4.715     \\\\\n",
       "\\textbf{tip\\_pct}                   &       7.6428  &        1.242     &     6.152  &         0.000        &        5.195    &       10.091     \\\\\n",
       "\\textbf{np.log(net\\_bill)}          &       1.7884  &        0.083     &    21.627  &         0.000        &        1.625    &        1.951     \\\\\n",
       "\\textbf{tip\\_pct:np.log(net\\_bill)} &       4.8193  &        0.472     &    10.204  &         0.000        &        3.889    &        5.750     \\\\\n",
       "\\bottomrule\n",
       "\\end{tabular}\n",
       "\\begin{tabular}{lclc}\n",
       "\\textbf{Omnibus:}       & 96.383 & \\textbf{  Durbin-Watson:     } &    2.091  \\\\\n",
       "\\textbf{Prob(Omnibus):} &  0.000 & \\textbf{  Jarque-Bera (JB):  } &  386.188  \\\\\n",
       "\\textbf{Skew:}          &  1.726 & \\textbf{  Prob(JB):          } & 1.38e-84  \\\\\n",
       "\\textbf{Kurtosis:}      &  8.394 & \\textbf{  Cond. No.          } &     251.  \\\\\n",
       "\\bottomrule\n",
       "\\end{tabular}\n",
       "%\\caption{OLS Regression Results}\n",
       "\\end{center}\n",
       "\n",
       "Notes: \\newline\n",
       " [1] Standard Errors assume that the covariance matrix of the errors is correctly specified."
      ],
      "text/plain": [
       "<class 'statsmodels.iolib.summary.Summary'>\n",
       "\"\"\"\n",
       "                            OLS Regression Results                            \n",
       "==============================================================================\n",
       "Dep. Variable:                    tip   R-squared:                       0.946\n",
       "Model:                            OLS   Adj. R-squared:                  0.945\n",
       "Method:                 Least Squares   F-statistic:                     1285.\n",
       "Date:                Fri, 14 Jun 2024   Prob (F-statistic):          5.74e-140\n",
       "Time:                        09:30:57   Log-Likelihood:                 8.9997\n",
       "No. Observations:                 226   AIC:                            -9.999\n",
       "Df Residuals:                     222   BIC:                             3.683\n",
       "Df Model:                           3                                         \n",
       "Covariance Type:            nonrobust                                         \n",
       "============================================================================================\n",
       "                               coef    std err          t      P>|t|      [0.025      0.975]\n",
       "--------------------------------------------------------------------------------------------\n",
       "Intercept                   -5.1924      0.242    -21.429      0.000      -5.670      -4.715\n",
       "tip_pct                      7.6428      1.242      6.152      0.000       5.195      10.091\n",
       "np.log(net_bill)             1.7884      0.083     21.627      0.000       1.625       1.951\n",
       "tip_pct:np.log(net_bill)     4.8193      0.472     10.204      0.000       3.889       5.750\n",
       "==============================================================================\n",
       "Omnibus:                       96.383   Durbin-Watson:                   2.091\n",
       "Prob(Omnibus):                  0.000   Jarque-Bera (JB):              386.188\n",
       "Skew:                           1.726   Prob(JB):                     1.38e-84\n",
       "Kurtosis:                       8.394   Cond. No.                         251.\n",
       "==============================================================================\n",
       "\n",
       "Notes:\n",
       "[1] Standard Errors assume that the covariance matrix of the errors is correctly specified.\n",
       "\"\"\""
      ]
     },
     "execution_count": 14,
     "metadata": {},
     "output_type": "execute_result"
    }
   ],
   "source": [
    "reg2 = smf.ols('tip ~ tip_pct * np.log(net_bill)', data=tips).fit()\n",
    "reg2.summary()"
   ]
  },
  {
   "cell_type": "markdown",
   "metadata": {},
   "source": [
    "###  3. ajuste o modelo de ```tip_pct``` em função de um polinômio de segundo grau em ```net_bill```."
   ]
  },
  {
   "cell_type": "code",
   "execution_count": 16,
   "metadata": {},
   "outputs": [
    {
     "data": {
      "text/html": [
       "<table class=\"simpletable\">\n",
       "<caption>OLS Regression Results</caption>\n",
       "<tr>\n",
       "  <th>Dep. Variable:</th>           <td>tip</td>       <th>  R-squared:         </th> <td>   0.911</td> \n",
       "</tr>\n",
       "<tr>\n",
       "  <th>Model:</th>                   <td>OLS</td>       <th>  Adj. R-squared:    </th> <td>   0.910</td> \n",
       "</tr>\n",
       "<tr>\n",
       "  <th>Method:</th>             <td>Least Squares</td>  <th>  F-statistic:       </th> <td>   757.7</td> \n",
       "</tr>\n",
       "<tr>\n",
       "  <th>Date:</th>             <td>Fri, 14 Jun 2024</td> <th>  Prob (F-statistic):</th> <td>2.68e-116</td>\n",
       "</tr>\n",
       "<tr>\n",
       "  <th>Time:</th>                 <td>09:31:55</td>     <th>  Log-Likelihood:    </th> <td> -46.501</td> \n",
       "</tr>\n",
       "<tr>\n",
       "  <th>No. Observations:</th>      <td>   226</td>      <th>  AIC:               </th> <td>   101.0</td> \n",
       "</tr>\n",
       "<tr>\n",
       "  <th>Df Residuals:</th>          <td>   222</td>      <th>  BIC:               </th> <td>   114.7</td> \n",
       "</tr>\n",
       "<tr>\n",
       "  <th>Df Model:</th>              <td>     3</td>      <th>                     </th>     <td> </td>    \n",
       "</tr>\n",
       "<tr>\n",
       "  <th>Covariance Type:</th>      <td>nonrobust</td>    <th>                     </th>     <td> </td>    \n",
       "</tr>\n",
       "</table>\n",
       "<table class=\"simpletable\">\n",
       "<tr>\n",
       "                <td></td>                   <th>coef</th>     <th>std err</th>      <th>t</th>      <th>P>|t|</th>  <th>[0.025</th>    <th>0.975]</th>  \n",
       "</tr>\n",
       "<tr>\n",
       "  <th>Intercept</th>                     <td>    0.3856</td> <td>    0.093</td> <td>    4.128</td> <td> 0.000</td> <td>    0.202</td> <td>    0.570</td>\n",
       "</tr>\n",
       "<tr>\n",
       "  <th>tip_pct</th>                       <td>    7.2357</td> <td>    0.542</td> <td>   13.342</td> <td> 0.000</td> <td>    6.167</td> <td>    8.304</td>\n",
       "</tr>\n",
       "<tr>\n",
       "  <th>np.power(net_bill, 2)</th>         <td>   -0.0021</td> <td>    0.000</td> <td>  -11.514</td> <td> 0.000</td> <td>   -0.002</td> <td>   -0.002</td>\n",
       "</tr>\n",
       "<tr>\n",
       "  <th>tip_pct:np.power(net_bill, 2)</th> <td>    0.0460</td> <td>    0.002</td> <td>   28.068</td> <td> 0.000</td> <td>    0.043</td> <td>    0.049</td>\n",
       "</tr>\n",
       "</table>\n",
       "<table class=\"simpletable\">\n",
       "<tr>\n",
       "  <th>Omnibus:</th>       <td>92.476</td> <th>  Durbin-Watson:     </th> <td>   2.015</td> \n",
       "</tr>\n",
       "<tr>\n",
       "  <th>Prob(Omnibus):</th> <td> 0.000</td> <th>  Jarque-Bera (JB):  </th> <td> 535.734</td> \n",
       "</tr>\n",
       "<tr>\n",
       "  <th>Skew:</th>          <td>-1.488</td> <th>  Prob(JB):          </th> <td>4.64e-117</td>\n",
       "</tr>\n",
       "<tr>\n",
       "  <th>Kurtosis:</th>      <td> 9.931</td> <th>  Cond. No.          </th> <td>1.25e+04</td> \n",
       "</tr>\n",
       "</table><br/><br/>Notes:<br/>[1] Standard Errors assume that the covariance matrix of the errors is correctly specified.<br/>[2] The condition number is large, 1.25e+04. This might indicate that there are<br/>strong multicollinearity or other numerical problems."
      ],
      "text/latex": [
       "\\begin{center}\n",
       "\\begin{tabular}{lclc}\n",
       "\\toprule\n",
       "\\textbf{Dep. Variable:}                  &       tip        & \\textbf{  R-squared:         } &     0.911   \\\\\n",
       "\\textbf{Model:}                          &       OLS        & \\textbf{  Adj. R-squared:    } &     0.910   \\\\\n",
       "\\textbf{Method:}                         &  Least Squares   & \\textbf{  F-statistic:       } &     757.7   \\\\\n",
       "\\textbf{Date:}                           & Fri, 14 Jun 2024 & \\textbf{  Prob (F-statistic):} & 2.68e-116   \\\\\n",
       "\\textbf{Time:}                           &     09:31:55     & \\textbf{  Log-Likelihood:    } &   -46.501   \\\\\n",
       "\\textbf{No. Observations:}               &         226      & \\textbf{  AIC:               } &     101.0   \\\\\n",
       "\\textbf{Df Residuals:}                   &         222      & \\textbf{  BIC:               } &     114.7   \\\\\n",
       "\\textbf{Df Model:}                       &           3      & \\textbf{                     } &             \\\\\n",
       "\\textbf{Covariance Type:}                &    nonrobust     & \\textbf{                     } &             \\\\\n",
       "\\bottomrule\n",
       "\\end{tabular}\n",
       "\\begin{tabular}{lcccccc}\n",
       "                                         & \\textbf{coef} & \\textbf{std err} & \\textbf{t} & \\textbf{P$> |$t$|$} & \\textbf{[0.025} & \\textbf{0.975]}  \\\\\n",
       "\\midrule\n",
       "\\textbf{Intercept}                       &       0.3856  &        0.093     &     4.128  &         0.000        &        0.202    &        0.570     \\\\\n",
       "\\textbf{tip\\_pct}                        &       7.2357  &        0.542     &    13.342  &         0.000        &        6.167    &        8.304     \\\\\n",
       "\\textbf{np.power(net\\_bill, 2)}          &      -0.0021  &        0.000     &   -11.514  &         0.000        &       -0.002    &       -0.002     \\\\\n",
       "\\textbf{tip\\_pct:np.power(net\\_bill, 2)} &       0.0460  &        0.002     &    28.068  &         0.000        &        0.043    &        0.049     \\\\\n",
       "\\bottomrule\n",
       "\\end{tabular}\n",
       "\\begin{tabular}{lclc}\n",
       "\\textbf{Omnibus:}       & 92.476 & \\textbf{  Durbin-Watson:     } &     2.015  \\\\\n",
       "\\textbf{Prob(Omnibus):} &  0.000 & \\textbf{  Jarque-Bera (JB):  } &   535.734  \\\\\n",
       "\\textbf{Skew:}          & -1.488 & \\textbf{  Prob(JB):          } & 4.64e-117  \\\\\n",
       "\\textbf{Kurtosis:}      &  9.931 & \\textbf{  Cond. No.          } &  1.25e+04  \\\\\n",
       "\\bottomrule\n",
       "\\end{tabular}\n",
       "%\\caption{OLS Regression Results}\n",
       "\\end{center}\n",
       "\n",
       "Notes: \\newline\n",
       " [1] Standard Errors assume that the covariance matrix of the errors is correctly specified. \\newline\n",
       " [2] The condition number is large, 1.25e+04. This might indicate that there are \\newline\n",
       " strong multicollinearity or other numerical problems."
      ],
      "text/plain": [
       "<class 'statsmodels.iolib.summary.Summary'>\n",
       "\"\"\"\n",
       "                            OLS Regression Results                            \n",
       "==============================================================================\n",
       "Dep. Variable:                    tip   R-squared:                       0.911\n",
       "Model:                            OLS   Adj. R-squared:                  0.910\n",
       "Method:                 Least Squares   F-statistic:                     757.7\n",
       "Date:                Fri, 14 Jun 2024   Prob (F-statistic):          2.68e-116\n",
       "Time:                        09:31:55   Log-Likelihood:                -46.501\n",
       "No. Observations:                 226   AIC:                             101.0\n",
       "Df Residuals:                     222   BIC:                             114.7\n",
       "Df Model:                           3                                         \n",
       "Covariance Type:            nonrobust                                         \n",
       "=================================================================================================\n",
       "                                    coef    std err          t      P>|t|      [0.025      0.975]\n",
       "-------------------------------------------------------------------------------------------------\n",
       "Intercept                         0.3856      0.093      4.128      0.000       0.202       0.570\n",
       "tip_pct                           7.2357      0.542     13.342      0.000       6.167       8.304\n",
       "np.power(net_bill, 2)            -0.0021      0.000    -11.514      0.000      -0.002      -0.002\n",
       "tip_pct:np.power(net_bill, 2)     0.0460      0.002     28.068      0.000       0.043       0.049\n",
       "==============================================================================\n",
       "Omnibus:                       92.476   Durbin-Watson:                   2.015\n",
       "Prob(Omnibus):                  0.000   Jarque-Bera (JB):              535.734\n",
       "Skew:                          -1.488   Prob(JB):                    4.64e-117\n",
       "Kurtosis:                       9.931   Cond. No.                     1.25e+04\n",
       "==============================================================================\n",
       "\n",
       "Notes:\n",
       "[1] Standard Errors assume that the covariance matrix of the errors is correctly specified.\n",
       "[2] The condition number is large, 1.25e+04. This might indicate that there are\n",
       "strong multicollinearity or other numerical problems.\n",
       "\"\"\""
      ]
     },
     "execution_count": 16,
     "metadata": {},
     "output_type": "execute_result"
    }
   ],
   "source": [
    "reg3 = smf.ols('tip ~ tip_pct * np.power(net_bill, 2)', data=tips).fit()\n",
    "reg3.summary()"
   ]
  },
  {
   "cell_type": "markdown",
   "metadata": {},
   "source": [
    "###  4. ajuste um modelo no log do ```tip_pct``` em função de ```net_bill```. Calcule o $R^2$ também em ```tip_pct```"
   ]
  },
  {
   "cell_type": "code",
   "execution_count": 21,
   "metadata": {},
   "outputs": [
    {
     "name": "stdout",
     "output_type": "stream",
     "text": [
      "                            OLS Regression Results                            \n",
      "==============================================================================\n",
      "Dep. Variable:                    tip   R-squared:                       0.940\n",
      "Model:                            OLS   Adj. R-squared:                  0.939\n",
      "Method:                 Least Squares   F-statistic:                     1151.\n",
      "Date:                Fri, 14 Jun 2024   Prob (F-statistic):          5.58e-135\n",
      "Time:                        09:34:04   Log-Likelihood:                -2.6961\n",
      "No. Observations:                 226   AIC:                             13.39\n",
      "Df Residuals:                     222   BIC:                             27.07\n",
      "Df Model:                           3                                         \n",
      "Covariance Type:            nonrobust                                         \n",
      "============================================================================================\n",
      "                               coef    std err          t      P>|t|      [0.025      0.975]\n",
      "--------------------------------------------------------------------------------------------\n",
      "Intercept                    3.3362      0.214     15.572      0.000       2.914       3.758\n",
      "np.log(tip_pct)              1.6365      0.112     14.597      0.000       1.416       1.857\n",
      "net_bill                     0.3123      0.012     25.763      0.000       0.288       0.336\n",
      "np.log(tip_pct):net_bill     0.0772      0.006     13.911      0.000       0.066       0.088\n",
      "==============================================================================\n",
      "Omnibus:                      103.745   Durbin-Watson:                   2.037\n",
      "Prob(Omnibus):                  0.000   Jarque-Bera (JB):              733.860\n",
      "Skew:                           1.632   Prob(JB):                    4.41e-160\n",
      "Kurtosis:                      11.202   Cond. No.                         615.\n",
      "==============================================================================\n",
      "\n",
      "Notes:\n",
      "[1] Standard Errors assume that the covariance matrix of the errors is correctly specified.\n",
      "R2 igual a 93.96%\n"
     ]
    }
   ],
   "source": [
    "reg4 = smf.ols('tip ~ np.log(tip_pct) * net_bill', data=tips).fit()\n",
    "print(reg4.summary())\n",
    "print(f'R2 igual a {reg4.rsquared*100:.2f}%')"
   ]
  },
  {
   "cell_type": "markdown",
   "metadata": {},
   "source": [
    "###  5. ajuste um modelo no log do ```tip_pct``` em função do log de ```net_bill```. Calcule o $R^2$ também em ```tip_pct```."
   ]
  },
  {
   "cell_type": "code",
   "execution_count": 29,
   "metadata": {},
   "outputs": [
    {
     "name": "stdout",
     "output_type": "stream",
     "text": [
      "                            OLS Regression Results                            \n",
      "==============================================================================\n",
      "Dep. Variable:                    tip   R-squared:                       0.951\n",
      "Model:                            OLS   Adj. R-squared:                  0.950\n",
      "Method:                 Least Squares   F-statistic:                     1426.\n",
      "Date:                Fri, 14 Jun 2024   Prob (F-statistic):          1.02e-144\n",
      "Time:                        09:40:30   Log-Likelihood:                 20.140\n",
      "No. Observations:                 226   AIC:                            -32.28\n",
      "Df Residuals:                     222   BIC:                            -18.60\n",
      "Df Model:                           3                                         \n",
      "Covariance Type:            nonrobust                                         \n",
      "====================================================================================================\n",
      "                                       coef    std err          t      P>|t|      [0.025      0.975]\n",
      "----------------------------------------------------------------------------------------------------\n",
      "Intercept                            2.8075      0.408      6.889      0.000       2.004       3.611\n",
      "np.log(tip_pct)                      3.6291      0.222     16.377      0.000       3.192       4.066\n",
      "np.log(net_bill)                     2.1119      0.147     14.357      0.000       1.822       2.402\n",
      "np.log(tip_pct):np.log(net_bill)    -0.2326      0.075     -3.083      0.002      -0.381      -0.084\n",
      "==============================================================================\n",
      "Omnibus:                       65.081   Durbin-Watson:                   1.908\n",
      "Prob(Omnibus):                  0.000   Jarque-Bera (JB):              116.291\n",
      "Skew:                           1.543   Prob(JB):                     5.60e-26\n",
      "Kurtosis:                       4.683   Cond. No.                         212.\n",
      "==============================================================================\n",
      "\n",
      "Notes:\n",
      "[1] Standard Errors assume that the covariance matrix of the errors is correctly specified.\n",
      "R2 igual a 95.07%\n"
     ]
    }
   ],
   "source": [
    "reg5 = smf.ols('tip ~ np.log(tip_pct) * np.log(net_bill)', data=tips).fit()\n",
    "print(reg5.summary())\n",
    "print(f'R2 igual a {reg5.rsquared*100:.2f}%')"
   ]
  },
  {
   "cell_type": "markdown",
   "metadata": {},
   "source": [
    "###  6. qual modelo resultou no melhor ajuste?"
   ]
  },
  {
   "cell_type": "code",
   "execution_count": 37,
   "metadata": {},
   "outputs": [
    {
     "name": "stdout",
     "output_type": "stream",
     "text": [
      "O modelo com o melhor ajuste foi o modelo com parâmetros ['np.log(tip_pct)', 'np.log(net_bill)', 'np.log(tip_pct):np.log(net_bill)'] com 91.10%\n"
     ]
    }
   ],
   "source": [
    "for i, reg in enumerate([reg2, reg3, reg4, reg5]):\n",
    "    if i == 0:\n",
    "        temp = reg.rsquared\n",
    "    if reg.rsquared < temp:\n",
    "        temp = reg.rsquared\n",
    "    if i == 3:\n",
    "        print('O modelo com o melhor ajuste foi o modelo com parâmetros {} com {:.2f}%'.format(\n",
    "            [param for param in reg.params.index[1:]]\n",
    "            ,temp*100))\n",
    "    "
   ]
  },
  {
   "cell_type": "markdown",
   "metadata": {},
   "source": [
    "### Explicação\n",
    "Como o $R^2$ inicial já é consideravelmente alto, existem altas chances do modelo estar **overfitado** por isso eu considerei como melhor ajuste o modelo que reduziu o $R^2$ e não aumentou, nesse caso foi o 3º modelo criado que apresentou a melhor redução. Mas devo enfatizar que isso é uma análise feita sob a perspectiva única de avaliar o modelo através do coeficiente de determinação, numa aplicação real seria necessário construir gráficos tridimensionais para avaliar as regressões do modelo, assim como comparar outros parâmetros para verificar de forma mais incisiva qual modelo apresentou o melhor ajuste."
   ]
  }
 ],
 "metadata": {
  "kernelspec": {
   "display_name": "Python 3 (ipykernel)",
   "language": "python",
   "name": "python3"
  },
  "language_info": {
   "codemirror_mode": {
    "name": "ipython",
    "version": 3
   },
   "file_extension": ".py",
   "mimetype": "text/x-python",
   "name": "python",
   "nbconvert_exporter": "python",
   "pygments_lexer": "ipython3",
   "version": "3.12.3"
  }
 },
 "nbformat": 4,
 "nbformat_minor": 4
}
