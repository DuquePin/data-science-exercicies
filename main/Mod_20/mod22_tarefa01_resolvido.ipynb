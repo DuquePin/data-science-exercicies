{
 "cells": [
  {
   "cell_type": "markdown",
   "metadata": {},
   "source": [
    "# Tarefa 01\n",
    "\n",
    "- Leia os enunciados com atenção\n",
    "- Saiba que pode haver mais de uma resposta correta\n",
    "- Insira novas células de código sempre que achar necessário\n",
    "- Em caso de dúvidas, procure os monitores\n",
    "- Divirta-se :)"
   ]
  },
  {
   "cell_type": "markdown",
   "metadata": {
    "hide_input": false
   },
   "source": [
    "#### 1. Baixando dados de ativos\n",
    "    1. Baixe os dados de três ativos da sua escolha do Yahoo Finance, correspondente a um período de pelo menos 2 anos até a data mais recente.\n",
    "    2. Salve esses dados para que você possa utilizá-los na próxima tarefa."
   ]
  },
  {
   "cell_type": "code",
   "execution_count": 1,
   "metadata": {},
   "outputs": [
    {
     "name": "stderr",
     "output_type": "stream",
     "text": [
      "[*********************100%***********************]  1 of 1 completed\n",
      "[*********************100%***********************]  1 of 1 completed\n",
      "[*********************100%***********************]  1 of 1 completed"
     ]
    },
    {
     "name": "stdout",
     "output_type": "stream",
     "text": [
      "CPU times: total: 1.45 s\n",
      "Wall time: 15.3 s\n"
     ]
    },
    {
     "name": "stderr",
     "output_type": "stream",
     "text": [
      "\n"
     ]
    },
    {
     "data": {
      "text/html": [
       "<div>\n",
       "<style scoped>\n",
       "    .dataframe tbody tr th:only-of-type {\n",
       "        vertical-align: middle;\n",
       "    }\n",
       "\n",
       "    .dataframe tbody tr th {\n",
       "        vertical-align: top;\n",
       "    }\n",
       "\n",
       "    .dataframe thead th {\n",
       "        text-align: right;\n",
       "    }\n",
       "</style>\n",
       "<table border=\"1\" class=\"dataframe\">\n",
       "  <thead>\n",
       "    <tr style=\"text-align: right;\">\n",
       "      <th></th>\n",
       "      <th>Open</th>\n",
       "      <th>High</th>\n",
       "      <th>Low</th>\n",
       "      <th>Close</th>\n",
       "      <th>Adj Close</th>\n",
       "      <th>Volume</th>\n",
       "    </tr>\n",
       "    <tr>\n",
       "      <th>Date</th>\n",
       "      <th></th>\n",
       "      <th></th>\n",
       "      <th></th>\n",
       "      <th></th>\n",
       "      <th></th>\n",
       "      <th></th>\n",
       "    </tr>\n",
       "  </thead>\n",
       "  <tbody>\n",
       "    <tr>\n",
       "      <th>2022-01-03</th>\n",
       "      <td>29.815001</td>\n",
       "      <td>30.711000</td>\n",
       "      <td>29.785000</td>\n",
       "      <td>30.121000</td>\n",
       "      <td>30.075630</td>\n",
       "      <td>391547000</td>\n",
       "    </tr>\n",
       "    <tr>\n",
       "      <th>2022-01-04</th>\n",
       "      <td>30.277000</td>\n",
       "      <td>30.468000</td>\n",
       "      <td>28.349001</td>\n",
       "      <td>29.290001</td>\n",
       "      <td>29.245884</td>\n",
       "      <td>527154000</td>\n",
       "    </tr>\n",
       "    <tr>\n",
       "      <th>2022-01-05</th>\n",
       "      <td>28.948999</td>\n",
       "      <td>29.416000</td>\n",
       "      <td>27.533001</td>\n",
       "      <td>27.604000</td>\n",
       "      <td>27.562422</td>\n",
       "      <td>498064000</td>\n",
       "    </tr>\n",
       "    <tr>\n",
       "      <th>2022-01-06</th>\n",
       "      <td>27.639999</td>\n",
       "      <td>28.438000</td>\n",
       "      <td>27.065001</td>\n",
       "      <td>28.177999</td>\n",
       "      <td>28.135557</td>\n",
       "      <td>454186000</td>\n",
       "    </tr>\n",
       "    <tr>\n",
       "      <th>2022-01-07</th>\n",
       "      <td>28.141001</td>\n",
       "      <td>28.422001</td>\n",
       "      <td>27.056999</td>\n",
       "      <td>27.247000</td>\n",
       "      <td>27.205961</td>\n",
       "      <td>409939000</td>\n",
       "    </tr>\n",
       "    <tr>\n",
       "      <th>...</th>\n",
       "      <td>...</td>\n",
       "      <td>...</td>\n",
       "      <td>...</td>\n",
       "      <td>...</td>\n",
       "      <td>...</td>\n",
       "      <td>...</td>\n",
       "    </tr>\n",
       "    <tr>\n",
       "      <th>2024-06-24</th>\n",
       "      <td>123.239998</td>\n",
       "      <td>124.459999</td>\n",
       "      <td>118.040001</td>\n",
       "      <td>118.110001</td>\n",
       "      <td>118.110001</td>\n",
       "      <td>476060900</td>\n",
       "    </tr>\n",
       "    <tr>\n",
       "      <th>2024-06-25</th>\n",
       "      <td>121.199997</td>\n",
       "      <td>126.500000</td>\n",
       "      <td>119.320000</td>\n",
       "      <td>126.089996</td>\n",
       "      <td>126.089996</td>\n",
       "      <td>425787500</td>\n",
       "    </tr>\n",
       "    <tr>\n",
       "      <th>2024-06-26</th>\n",
       "      <td>126.129997</td>\n",
       "      <td>128.119995</td>\n",
       "      <td>122.599998</td>\n",
       "      <td>126.400002</td>\n",
       "      <td>126.400002</td>\n",
       "      <td>362975900</td>\n",
       "    </tr>\n",
       "    <tr>\n",
       "      <th>2024-06-27</th>\n",
       "      <td>124.099998</td>\n",
       "      <td>126.410004</td>\n",
       "      <td>122.919998</td>\n",
       "      <td>123.989998</td>\n",
       "      <td>123.989998</td>\n",
       "      <td>252571700</td>\n",
       "    </tr>\n",
       "    <tr>\n",
       "      <th>2024-06-28</th>\n",
       "      <td>124.580002</td>\n",
       "      <td>127.709999</td>\n",
       "      <td>122.750000</td>\n",
       "      <td>123.540001</td>\n",
       "      <td>123.540001</td>\n",
       "      <td>315516700</td>\n",
       "    </tr>\n",
       "  </tbody>\n",
       "</table>\n",
       "<p>625 rows × 6 columns</p>\n",
       "</div>"
      ],
      "text/plain": [
       "                  Open        High         Low       Close   Adj Close  \\\n",
       "Date                                                                     \n",
       "2022-01-03   29.815001   30.711000   29.785000   30.121000   30.075630   \n",
       "2022-01-04   30.277000   30.468000   28.349001   29.290001   29.245884   \n",
       "2022-01-05   28.948999   29.416000   27.533001   27.604000   27.562422   \n",
       "2022-01-06   27.639999   28.438000   27.065001   28.177999   28.135557   \n",
       "2022-01-07   28.141001   28.422001   27.056999   27.247000   27.205961   \n",
       "...                ...         ...         ...         ...         ...   \n",
       "2024-06-24  123.239998  124.459999  118.040001  118.110001  118.110001   \n",
       "2024-06-25  121.199997  126.500000  119.320000  126.089996  126.089996   \n",
       "2024-06-26  126.129997  128.119995  122.599998  126.400002  126.400002   \n",
       "2024-06-27  124.099998  126.410004  122.919998  123.989998  123.989998   \n",
       "2024-06-28  124.580002  127.709999  122.750000  123.540001  123.540001   \n",
       "\n",
       "               Volume  \n",
       "Date                   \n",
       "2022-01-03  391547000  \n",
       "2022-01-04  527154000  \n",
       "2022-01-05  498064000  \n",
       "2022-01-06  454186000  \n",
       "2022-01-07  409939000  \n",
       "...               ...  \n",
       "2024-06-24  476060900  \n",
       "2024-06-25  425787500  \n",
       "2024-06-26  362975900  \n",
       "2024-06-27  252571700  \n",
       "2024-06-28  315516700  \n",
       "\n",
       "[625 rows x 6 columns]"
      ]
     },
     "execution_count": 1,
     "metadata": {},
     "output_type": "execute_result"
    }
   ],
   "source": [
    "%%time\n",
    "import pandas as pd\n",
    "import yfinance as yf\n",
    "import plotly.express as px\n",
    "\n",
    "ATIVOS = [('NVDA', 'NVIDIA Corporation'), ('AAPL', 'Apple Inc.'), ('MSFT', 'Microsoft Corporation')]\n",
    "dt_ini, dt_fim = '2022-01-01', '2024-07-01'\n",
    "\n",
    "dados = {ativo: yf.download(value, start=dt_ini, end=dt_fim) for value, ativo in ATIVOS}\n",
    "dados['NVIDIA Corporation']"
   ]
  },
  {
   "cell_type": "code",
   "execution_count": 2,
   "metadata": {},
   "outputs": [
    {
     "name": "stdout",
     "output_type": "stream",
     "text": [
      "CPU times: total: 31.2 ms\n",
      "Wall time: 25 ms\n"
     ]
    }
   ],
   "source": [
    "%%time\n",
    "pd.concat(dados, names=['ativo', 'data']).to_csv('./dados.csv')"
   ]
  },
  {
   "cell_type": "markdown",
   "metadata": {},
   "source": [
    "#### 2. Observando a volatilidade dentro do dia\n",
    "1. Calcule a amplitude de variação do valor do ativo dentro do dia. Essa amplitude você pode calcular com um comando simples de adicionar uma coluna no Pandas: (valor máximo - valor mínimo).\n",
    "2. Monte um gráfico de linha mostrando a variação dessa amplitude ao longo do período coletado, por ativo.\n",
    "3. Veja se consegue identificar que ativo apresentou maior volatilidade."
   ]
  },
  {
   "cell_type": "code",
   "execution_count": 3,
   "metadata": {},
   "outputs": [
    {
     "data": {
      "text/html": [
       "<div>\n",
       "<style scoped>\n",
       "    .dataframe tbody tr th:only-of-type {\n",
       "        vertical-align: middle;\n",
       "    }\n",
       "\n",
       "    .dataframe tbody tr th {\n",
       "        vertical-align: top;\n",
       "    }\n",
       "\n",
       "    .dataframe thead th {\n",
       "        text-align: right;\n",
       "    }\n",
       "</style>\n",
       "<table border=\"1\" class=\"dataframe\">\n",
       "  <thead>\n",
       "    <tr style=\"text-align: right;\">\n",
       "      <th></th>\n",
       "      <th>NVIDIA Corporation</th>\n",
       "      <th>Apple Inc.</th>\n",
       "      <th>Microsoft Corporation</th>\n",
       "    </tr>\n",
       "    <tr>\n",
       "      <th>Date</th>\n",
       "      <th></th>\n",
       "      <th></th>\n",
       "      <th></th>\n",
       "    </tr>\n",
       "  </thead>\n",
       "  <tbody>\n",
       "    <tr>\n",
       "      <th>2022-01-03</th>\n",
       "      <td>0.926001</td>\n",
       "      <td>5.169998</td>\n",
       "      <td>8.220001</td>\n",
       "    </tr>\n",
       "    <tr>\n",
       "      <th>2022-01-04</th>\n",
       "      <td>2.118999</td>\n",
       "      <td>3.820007</td>\n",
       "      <td>9.080017</td>\n",
       "    </tr>\n",
       "    <tr>\n",
       "      <th>2022-01-05</th>\n",
       "      <td>1.882999</td>\n",
       "      <td>5.529999</td>\n",
       "      <td>10.089996</td>\n",
       "    </tr>\n",
       "    <tr>\n",
       "      <th>2022-01-06</th>\n",
       "      <td>1.372999</td>\n",
       "      <td>3.660004</td>\n",
       "      <td>7.210022</td>\n",
       "    </tr>\n",
       "    <tr>\n",
       "      <th>2022-01-07</th>\n",
       "      <td>1.365002</td>\n",
       "      <td>3.110001</td>\n",
       "      <td>6.410004</td>\n",
       "    </tr>\n",
       "    <tr>\n",
       "      <th>...</th>\n",
       "      <td>...</td>\n",
       "      <td>...</td>\n",
       "      <td>...</td>\n",
       "    </tr>\n",
       "    <tr>\n",
       "      <th>2024-06-24</th>\n",
       "      <td>6.419998</td>\n",
       "      <td>6.110001</td>\n",
       "      <td>6.339996</td>\n",
       "    </tr>\n",
       "    <tr>\n",
       "      <th>2024-06-25</th>\n",
       "      <td>7.180000</td>\n",
       "      <td>2.770004</td>\n",
       "      <td>4.670013</td>\n",
       "    </tr>\n",
       "    <tr>\n",
       "      <th>2024-06-26</th>\n",
       "      <td>5.519997</td>\n",
       "      <td>4.220001</td>\n",
       "      <td>5.410004</td>\n",
       "    </tr>\n",
       "    <tr>\n",
       "      <th>2024-06-27</th>\n",
       "      <td>3.490005</td>\n",
       "      <td>3.389999</td>\n",
       "      <td>4.400024</td>\n",
       "    </tr>\n",
       "    <tr>\n",
       "      <th>2024-06-28</th>\n",
       "      <td>4.959999</td>\n",
       "      <td>5.770004</td>\n",
       "      <td>8.970001</td>\n",
       "    </tr>\n",
       "  </tbody>\n",
       "</table>\n",
       "<p>625 rows × 3 columns</p>\n",
       "</div>"
      ],
      "text/plain": [
       "            NVIDIA Corporation  Apple Inc.  Microsoft Corporation\n",
       "Date                                                             \n",
       "2022-01-03            0.926001    5.169998               8.220001\n",
       "2022-01-04            2.118999    3.820007               9.080017\n",
       "2022-01-05            1.882999    5.529999              10.089996\n",
       "2022-01-06            1.372999    3.660004               7.210022\n",
       "2022-01-07            1.365002    3.110001               6.410004\n",
       "...                        ...         ...                    ...\n",
       "2024-06-24            6.419998    6.110001               6.339996\n",
       "2024-06-25            7.180000    2.770004               4.670013\n",
       "2024-06-26            5.519997    4.220001               5.410004\n",
       "2024-06-27            3.490005    3.389999               4.400024\n",
       "2024-06-28            4.959999    5.770004               8.970001\n",
       "\n",
       "[625 rows x 3 columns]"
      ]
     },
     "execution_count": 3,
     "metadata": {},
     "output_type": "execute_result"
    }
   ],
   "source": [
    "%%time\n",
    "amplitudes = pd.DataFrame()\n",
    "\n",
    "for value, ativo in ATIVOS:\n",
    "    amplitudes[ativo] = dados[ativo]['High'] - dados[ativo]['Low']\n",
    "\n",
    "amplitudes"
   ]
  },
  {
   "cell_type": "code",
   "execution_count": 4,
   "metadata": {},
   "outputs": [
    {
     "data": {
      "text/html": [
       "<iframe\n",
       "    scrolling=\"no\"\n",
       "    width=\"100%\"\n",
       "    height=\"545px\"\n",
       "    src=\"iframe_figures/figure_4.html\"\n",
       "    frameborder=\"0\"\n",
       "    allowfullscreen\n",
       "></iframe>\n"
      ]
     },
     "metadata": {},
     "output_type": "display_data"
    }
   ],
   "source": [
    "fig = px.line(amplitudes, title='Amplitude Diária das Ações das Big Techs')\n",
    "fig.show(renderer='inframe')"
   ]
  },
  {
   "cell_type": "code",
   "execution_count": 5,
   "metadata": {},
   "outputs": [
    {
     "name": "stdout",
     "output_type": "stream",
     "text": [
      "Média da amplitude diária por ativo:\n",
      "NVIDIA Corporation       1.529448\n",
      "Apple Inc.               3.488208\n",
      "Microsoft Corporation    6.557809\n",
      "dtype: float64\n",
      "O ativo com maior volatilidade é: Microsoft Corporation\n"
     ]
    }
   ],
   "source": [
    "print('Média da amplitude diária por ativo:\\n{}\\nO ativo com maior volatilidade é: {}'.format(amplitudes.mean(), amplitudes.mean().idxmax()))"
   ]
  }
 ],
 "metadata": {
  "kernelspec": {
   "display_name": "Python 3 (ipykernel)",
   "language": "python",
   "name": "python3"
  },
  "language_info": {
   "codemirror_mode": {
    "name": "ipython",
    "version": 3
   },
   "file_extension": ".py",
   "mimetype": "text/x-python",
   "name": "python",
   "nbconvert_exporter": "python",
   "pygments_lexer": "ipython3",
   "version": "3.12.3"
  },
  "toc": {
   "base_numbering": 1,
   "nav_menu": {},
   "number_sections": false,
   "sideBar": true,
   "skip_h1_title": true,
   "title_cell": "Índice",
   "title_sidebar": "Conteúdo",
   "toc_cell": false,
   "toc_position": {},
   "toc_section_display": true,
   "toc_window_display": false
  },
  "varInspector": {
   "cols": {
    "lenName": 16,
    "lenType": 16,
    "lenVar": 40
   },
   "kernels_config": {
    "python": {
     "delete_cmd_postfix": "",
     "delete_cmd_prefix": "del ",
     "library": "var_list.py",
     "varRefreshCmd": "print(var_dic_list())"
    },
    "r": {
     "delete_cmd_postfix": ") ",
     "delete_cmd_prefix": "rm(",
     "library": "var_list.r",
     "varRefreshCmd": "cat(var_dic_list()) "
    }
   },
   "types_to_exclude": [
    "module",
    "function",
    "builtin_function_or_method",
    "instance",
    "_Feature"
   ],
   "window_display": false
  }
 },
 "nbformat": 4,
 "nbformat_minor": 4
}
