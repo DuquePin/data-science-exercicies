{
 "cells": [
  {
   "cell_type": "markdown",
   "id": "7139d836-470d-424a-b6e3-e4acb602d526",
   "metadata": {},
   "source": [
    "- Crie um script que receba uma lista de argumentos com abreviaturas de meses e gere pastas com gráficos necessários sobre os meses"
   ]
  },
  {
   "cell_type": "code",
   "execution_count": 2,
   "id": "2dc7aeb7-a50f-4fdc-9ae5-2f947d50baa5",
   "metadata": {},
   "outputs": [],
   "source": [
    "# Importando bibliotecas\n",
    "import os\n",
    "\n",
    "import pandas as pd\n",
    "\n",
    "import seaborn as sns\n",
    "import matplotlib.pyplot as plt"
   ]
  },
  {
   "cell_type": "code",
   "execution_count": 67,
   "id": "f259e3b4-dd5d-41e1-847b-3886e2be4378",
   "metadata": {},
   "outputs": [
    {
     "name": "stdout",
     "output_type": "stream",
     "text": [
      "Digite meses separados por vírgula (ABR, MAR, JUN, etc):\n"
     ]
    },
    {
     "name": "stdin",
     "output_type": "stream",
     "text": [
      ">  abr, mai\n"
     ]
    },
    {
     "name": "stdout",
     "output_type": "stream",
     "text": [
      "Você digitou:  ['ABR', 'MAI']\n",
      "Confirma? [s/n]\n",
      "(Caso não seja a lista correta, o script vai fechar automaticamente)\n"
     ]
    },
    {
     "name": "stdin",
     "output_type": "stream",
     "text": [
      ">  n\n"
     ]
    }
   ],
   "source": [
    "import sys\n",
    "\n",
    "def main():\n",
    "    if len(sys.argv) > 3:\n",
    "        months = sys.argv[3:]\n",
    "        if validate_long_entry(months):\n",
    "            if confirm_months(months):\n",
    "                gen_plots(months)\n",
    "            else:\n",
    "                return None\n",
    "        else:\n",
    "            return None\n",
    "    else:\n",
    "        months = get_months()\n",
    "        if confirm_months(months):\n",
    "            gen_plots(months)\n",
    "        else:\n",
    "            return None     \n",
    "\n",
    "def get_months():\n",
    "    print(\"Digite meses separados por vírgula (ABR, MAR, JUN, etc):\")\n",
    "    while True:\n",
    "        entry = input(\"> \").strip()\n",
    "        if validate_long_entry(entry.split(\",\")):\n",
    "            entry = entry.split(\",\")\n",
    "            entry = [item.strip().upper() for item in entry]\n",
    "            return entry\n",
    "        else:\n",
    "            print(\"Entrada invalida. Tente novamente.\")\n",
    "\n",
    "def validate_long_entry(entry):\n",
    "    for item in entry:\n",
    "        if item.strip().upper() not in [\"JAN\", \"FEV\", \"MAR\", \"ABR\", \"MAI\", \"JUN\", \"JUL\", \"AGO\", \"SET\", \"OUT\", \"NOV\", \"DEZ\"]:\n",
    "            return False\n",
    "    return True\n",
    "\n",
    "def confirm_months(months):\n",
    "    print(\"Você digitou: \", months)\n",
    "    print(\"Confirma? [s/n]\")\n",
    "    print(\"(Caso não seja a lista correta, o script vai fechar automaticamente)\")\n",
    "    while True:\n",
    "        confirm = input(\"> \").strip().lower()\n",
    "        if confirm == \"s\":\n",
    "            return True\n",
    "        elif confirm == \"n\":\n",
    "            return False\n",
    "        else:\n",
    "            print(\"Inválido. Tente novamente.\")\n",
    "    \n",
    "\n",
    "def gen_plots(selected_months):\n",
    "    import os\n",
    "    import pandas as pd \n",
    "    import seaborn as sns\n",
    "    import matplotlib.pyplot as plt\n",
    "    \n",
    "    dataset = pd.read_csv('./input/SINASC_RO_2019.csv')\n",
    "    dataset = dataset[['IDADEMAE', 'SEXO', 'APGAR1', \n",
    "                       'APGAR5', 'PESO', 'CONSULTAS', \n",
    "                       'DTNASC', 'GESTACAO', 'GRAVIDEZ', \n",
    "                       'ESCMAE', 'IDADEPAI']]\n",
    "    dataset = split_months(dataset, selected_months)\n",
    "\n",
    "    if not os.path.exists(\"./output\"):\n",
    "        os.makedirs(\"./output\")\n",
    "\n",
    "    for month in selected_months:\n",
    "        dataset[month]['DTNASC'] = pd.to_datetime(dataset[month]['DTNASC'])\n",
    "        dataset[month]['DIA_SEMANA'] = dataset[month]['DTNASC'].dt.dayofweek\n",
    "        dataset[month]['DIA_SEMANA'] = dataset[month]['DIA_SEMANA'].map({0: 'SEG', 1: 'TER', 2: 'QUA', 3: \n",
    "                                                                   'QUI', 4: 'SEX', 5: 'SAB', 6: 'DOM'})\n",
    "    \n",
    "        fig, ax = plt.subplots(figsize=(15, 5))\n",
    "        agg_data = pd.pivot_table(dataset[month], \n",
    "                                  values='IDADEMAE', \n",
    "                                  index='DIA_SEMANA', \n",
    "                                  columns='SEXO', \n",
    "                                  aggfunc='count')\n",
    "        sns.lineplot(agg_data, ax=ax)\n",
    "        ax.set_xlabel('Dias da Semana')\n",
    "        ax.set_ylabel('Quantidade de Nascimentos')\n",
    "        ax.set_title('Quantidade de Nascimento por Dia da Semana Dividido por Sexo\\n({})'.format(month))\n",
    "        plt.savefig('./output/plot_{}.png'.format(month))\n",
    "\n",
    "def split_months(dataset, selected_months):\n",
    "    from pandas import to_datetime\n",
    "    dataset['DTNASC'] = to_datetime(dataset['DTNASC'])\n",
    "    dataset['MES'] = dataset['DTNASC'].dt.month\n",
    "    dataset['MES'] = dataset['MES'].map({1: 'JAN', 2: 'FEV', 3: 'MAR', 4:'ABR', 5: 'MAI', 6: 'JUN', \n",
    "                                         7: 'JUL', 8: 'AGO', 9: 'SET', 10: 'OUT', 11: 'NOV', 12: 'DEZ'})\n",
    "    dfs_per_month = {month: df_month for month, df_month in dataset.groupby('MES')}\n",
    "    \n",
    "    only_selected_months = {month: dfs_per_month[month] for month in selected_months if month in dfs_per_month}\n",
    "\n",
    "    return only_selected_months\n",
    "            \n",
    "    \n",
    "if __name__ == \"__main__\":\n",
    "    main()\n"
   ]
  },
  {
   "cell_type": "code",
   "execution_count": null,
   "id": "86b1dbf7-c51f-459a-8600-dc2ffeb55edd",
   "metadata": {},
   "outputs": [],
   "source": []
  }
 ],
 "metadata": {
  "kernelspec": {
   "display_name": "Python 3 (ipykernel)",
   "language": "python",
   "name": "python3"
  },
  "language_info": {
   "codemirror_mode": {
    "name": "ipython",
    "version": 3
   },
   "file_extension": ".py",
   "mimetype": "text/x-python",
   "name": "python",
   "nbconvert_exporter": "python",
   "pygments_lexer": "ipython3",
   "version": "3.12.3"
  }
 },
 "nbformat": 4,
 "nbformat_minor": 5
}
