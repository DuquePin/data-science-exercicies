{
 "cells": [
  {
   "cell_type": "markdown",
   "metadata": {},
   "source": [
    "# Cálculo - Tarefa 02\n",
    "\n",
    "1- Calcule de forma numérica a integral da função $x^3$ avaliada entre os pontos $1$ e $2$. Identifique o número de retângulos que você usou.  \n",
    "2- Calcule essa área de forma analítica."
   ]
  },
  {
   "cell_type": "markdown",
   "metadata": {},
   "source": [
    "# Exercício 1"
   ]
  },
  {
   "cell_type": "markdown",
   "metadata": {},
   "source": [
    "Para determinar a forma númerica da integral da função $x^3$ vamos utilizar arbitrariamente 100 retângulos de tamanhos de base iguais a $dx$. O intervalo $a-b$ é divido em 100 partes iguais, o comprimento de cada parte $dx$ pode ser calculado por:\n",
    "\n",
    "$dx=\\frac{b-a}{n}=\\frac{2-1}{100}=0.01$\n",
    "\n",
    "Sabendo o valor de $dx$, precisamos da altura desses retângulos, dada por:\n",
    "\n",
    "$h_i=f(x_i)=(1+i\\cdot 0.01)^3$\n",
    "\n",
    "Agora podemos calcular a soma da área desses retângulos, o que nos fornece uma aproximação da área do gráfico criado pela função $x^3$ no intervalo entre $1$ e $2$. \n",
    "\n",
    "$soma=\\sum^{100}_{i=1}h_i\\cdot dx =(1+i\\cdot 0.01)^3 \\cdot 0.01 \\approx3.7851$\n",
    "\n",
    "A integral da função $𝑓(𝑥)=𝑥^3$ avaliada entre os pontos 1 e 2, utilizando 100 retângulos, resulta em aproximadamente 3.7851."
   ]
  },
  {
   "cell_type": "markdown",
   "metadata": {},
   "source": [
    "# Exercício 2"
   ]
  },
  {
   "cell_type": "markdown",
   "metadata": {},
   "source": [
    "Para determinar a forma mais precisa da integral da função $x^3$ avaliada entre os pontos $1$ e $2$, vamos dizer que o comprimento de cada base dos retângulos utilizados para aproximar a área do gráfico $dx$ tende a zero, portanto, podemos encontrar a soma aproximada da área desses retângulos de tal forma que quanto menor o valor de $dx$, mais preciso é o resultado final. Essa operação é a integração da função, dada por:\n",
    "\n",
    "$$\\int_1^2 x^3dx$$"
   ]
  },
  {
   "cell_type": "markdown",
   "metadata": {},
   "source": [
    "A antiderivada de $x^n$ é dada por:\n",
    "\n",
    "$$\\int x^ndx=\\frac{x^{n+1}}{n+1}+C$$\n",
    "\n"
   ]
  },
  {
   "cell_type": "markdown",
   "metadata": {},
   "source": [
    "Portanto,  a antiderivada de $x^3$ é:\n",
    "\n",
    "$=\\frac{x^{3+1}}{3+1}+C$\n",
    "\n",
    "$=\\frac{x^4}{4}+C$\n",
    "\n",
    "$=\\frac{1}{4}x^4+C$"
   ]
  },
  {
   "cell_type": "markdown",
   "metadata": {},
   "source": [
    "O teorema fundamental do cálculo é dado por:\n",
    "\n",
    "$$\\int^b_a f(x)dx=F(b)-F(a)$$"
   ]
  },
  {
   "cell_type": "markdown",
   "metadata": {},
   "source": [
    "Portanto, a integral de $f(x)=x^3$ avaliada entre os pontos $1$ e $2$ é:\n",
    "\n",
    "$\\int^2_1 x^3dx=F(2)-F(1)$\n",
    "\n",
    "Substituindo a fórmula da antiderivada de $x^3$ avaliada nos pontos $2$ e $1$, temos:\n",
    "\n",
    "$\\int^2_1 x^3dx=(\\frac{1}{4}\\cdot2^4+C)-(\\frac{1}{4}\\cdot1^4+C)$\n",
    "\n",
    "$\\int^2_1 x^3dx=\\frac{2^4}{4}+C-\\frac{1^4}{4}-C$\n",
    "\n",
    "$\\int^2_1 x^3dx=\\frac{16}{4}-\\frac{1}{4}$\n",
    "\n",
    "$\\int^2_1 x^3dx=\\frac{15}{4}$\n",
    "\n",
    "Portanto, a resposta final da integral de $x^3$ avaliada entre os pontos $2$ e $1$ é igual a:\n",
    "\n",
    "$$\\int^2_1 x^3dx=\\frac{15}{4}=3.75$$\n",
    "\n",
    "Podemos ler a expressão acima como, dado os pontos $1$ e $2$ da função $f(x)=x^3$, temos que a área do gráfico nesse intervalo quando a $dx$ tende a zero é igual a $3.75$."
   ]
  },
  {
   "cell_type": "code",
   "execution_count": null,
   "metadata": {},
   "outputs": [],
   "source": []
  }
 ],
 "metadata": {
  "kernelspec": {
   "display_name": "Python 3 (ipykernel)",
   "language": "python",
   "name": "python3"
  },
  "language_info": {
   "codemirror_mode": {
    "name": "ipython",
    "version": 3
   },
   "file_extension": ".py",
   "mimetype": "text/x-python",
   "name": "python",
   "nbconvert_exporter": "python",
   "pygments_lexer": "ipython3",
   "version": "3.12.3"
  },
  "toc": {
   "base_numbering": 1,
   "nav_menu": {},
   "number_sections": true,
   "sideBar": true,
   "skip_h1_title": true,
   "title_cell": "Índice",
   "title_sidebar": "Conteúdo",
   "toc_cell": false,
   "toc_position": {},
   "toc_section_display": true,
   "toc_window_display": false
  },
  "varInspector": {
   "cols": {
    "lenName": 16,
    "lenType": 16,
    "lenVar": 40
   },
   "kernels_config": {
    "python": {
     "delete_cmd_postfix": "",
     "delete_cmd_prefix": "del ",
     "library": "var_list.py",
     "varRefreshCmd": "print(var_dic_list())"
    },
    "r": {
     "delete_cmd_postfix": ") ",
     "delete_cmd_prefix": "rm(",
     "library": "var_list.r",
     "varRefreshCmd": "cat(var_dic_list()) "
    }
   },
   "types_to_exclude": [
    "module",
    "function",
    "builtin_function_or_method",
    "instance",
    "_Feature"
   ],
   "window_display": false
  }
 },
 "nbformat": 4,
 "nbformat_minor": 4
}
