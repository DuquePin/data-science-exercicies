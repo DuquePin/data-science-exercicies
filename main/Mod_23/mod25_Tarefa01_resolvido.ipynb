{
 "cells": [
  {
   "cell_type": "markdown",
   "metadata": {},
   "source": [
    "# Cálculo - Tarefa 01\n",
    "\n",
    "1. Marque quais desses métodos/algoritmos muito populares em ciência de dados são baseados no uso de derivada:\n",
    "\n",
    "    1. Método Mínimos Quadrados\n",
    "    2. Gradiente descendente\n",
    "    3. Newton Raphson\n",
    "    4. CART (Árvore de decisão)"
   ]
  },
  {
   "cell_type": "markdown",
   "metadata": {},
   "source": [
    "**B. Gradiente descendente**\n",
    "\n",
    "Consiste em utilizar as derivadas de uma função em um dado ponto $x_i$ para calcular a inclinação da tangente nesse ponto (também chamada de slope). Em seguida, \"caminha-se\" na direção em que o valor da função diminui, repetidamente, até atingir um ponto mínimo da função. Essa técnica é usada para minimizar funções de erro em algoritmos de aprendizado de máquina, otimizando os parâmetros do modelo para obter resultados mais precisos.\n",
    "\n",
    "**C. Newton Raphson**\n",
    "\n",
    "O método de Newton-Raphson utiliza as derivadas de 1ª e 2ª ordem de uma função em um dado ponto $x_i$ para calcular tanto a inclinação da tangente (1ª derivada, ou slope) quanto a curvatura da função (2ª derivada). Isso permite encontrar o \"caminho\" mais eficiente para chegar a uma raiz da função, e não necessariamente ao ponto mínimo global. O método ajusta o valor de $x_i$ usando a curvatura para realizar atualizações mais rápidas e precisas em direção ao ponto onde a função é zero (ou o mínimo, se aplicado a funções de erro). Esse processo é repetido até convergir para uma solução.\n"
   ]
  },
  {
   "cell_type": "markdown",
   "metadata": {},
   "source": [
    "2. Dada uma base de dados com uma variável resposta $y$ e um conjunto de variáveis explicativas. Considere uma estrutura de um modelo de regressão. Explique com suas palavras por que não é possível obter parâmetros que forneçam um erro quadrático médio (EQM) menor que o obtido com estimadores de mínimos quadrados."
   ]
  },
  {
   "cell_type": "markdown",
   "metadata": {},
   "source": [
    "O método de mínimo quadrados, por definição de sua fórmula, minimizam a soma dos erros quadráticos médios (EQM) de forma a encontrar os melhores valores para os estimadores da regressão. De acordo com o teorema de Gauss-Markov, entre todos os estimadores lineares não viesados, os estimadores de mínimos quadrados têm a menor variância, o que contribui para garantir o menor erro quadrático médio. Portanto, sob as suposições adequadas, não é possível obter um EQM menor do que o fornecido pelos estimadores de mínimos quadrados."
   ]
  },
  {
   "cell_type": "code",
   "execution_count": null,
   "metadata": {},
   "outputs": [],
   "source": []
  }
 ],
 "metadata": {
  "kernelspec": {
   "display_name": "Python 3 (ipykernel)",
   "language": "python",
   "name": "python3"
  },
  "language_info": {
   "codemirror_mode": {
    "name": "ipython",
    "version": 3
   },
   "file_extension": ".py",
   "mimetype": "text/x-python",
   "name": "python",
   "nbconvert_exporter": "python",
   "pygments_lexer": "ipython3",
   "version": "3.12.3"
  },
  "toc": {
   "base_numbering": 1,
   "nav_menu": {},
   "number_sections": true,
   "sideBar": true,
   "skip_h1_title": true,
   "title_cell": "Índice",
   "title_sidebar": "Conteúdo",
   "toc_cell": false,
   "toc_position": {},
   "toc_section_display": true,
   "toc_window_display": false
  },
  "varInspector": {
   "cols": {
    "lenName": 16,
    "lenType": 16,
    "lenVar": 40
   },
   "kernels_config": {
    "python": {
     "delete_cmd_postfix": "",
     "delete_cmd_prefix": "del ",
     "library": "var_list.py",
     "varRefreshCmd": "print(var_dic_list())"
    },
    "r": {
     "delete_cmd_postfix": ") ",
     "delete_cmd_prefix": "rm(",
     "library": "var_list.r",
     "varRefreshCmd": "cat(var_dic_list()) "
    }
   },
   "types_to_exclude": [
    "module",
    "function",
    "builtin_function_or_method",
    "instance",
    "_Feature"
   ],
   "window_display": false
  }
 },
 "nbformat": 4,
 "nbformat_minor": 4
}
