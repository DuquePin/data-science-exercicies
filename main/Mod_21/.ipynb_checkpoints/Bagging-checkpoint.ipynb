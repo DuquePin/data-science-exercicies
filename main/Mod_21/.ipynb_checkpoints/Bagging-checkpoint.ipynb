{
 "cells": [
  {
   "cell_type": "markdown",
   "id": "a5e0036e-c160-4ff7-8787-db6ca18e1b79",
   "metadata": {},
   "source": [
    "# Bagging\n",
    "## Conceito\n",
    "**Bagging** é uma técnica de aprendizado de máquina que melhora a precisão de modelos, especialmente em métodos baseados em árvores, como árvores de decisão. A principal ideia por trás de bagging é reduzir a variabilidade (*overfitting*) que um modelo pode ter ao treinar diversos modelos em subconjuntos diferentes dos dados e, em seguida, combinar suas previsões.\n",
    "\n",
    "A técnica tira proveito do conceito de **Sabedoria da Multidão**, onde um número independente de pessoas sem relação podem realizar previsões em média mais precisas do que um único especialista.\n",
    "\n",
    "## Construção\n",
    "A técnica se divide em  dois passos para sua construção: **bootstrap** e **aggregating**\n",
    "\n",
    "### Bootstrap\n",
    "A partir do conjunto de dados inicial *D*, são gerados vários subconjuntos de dados *d* por meio da amostragem com reposição (*bootstrap sampling*). Em seguida, os subconjuntos *d* são usados para o treinamento de modelos correspondentes *m*. Por último, os modelos criam suas previsões *p*.\n",
    "\n",
    "### Aggregating\n",
    "As previsões *p* dos modelos *m* são combinadas, a previsão *p* mais frequente será considerada o resultado final para o conjunto de dados *D*. Ou, caso seja um caso de regressão, tira-se a média dos valores previstos e essa será a resposta final. \n",
    "\n",
    "### BaggingClassifier\n",
    "O algoritmo **BaggingClassifier** é um exemplo de técnica de bagging, onde vários modelos são criados utilizando um meta-estimador de conjunto. Esse meta-estimador ajusta cada classificador base em subconjuntos aleatórios do conjunto de dados original. Após isso, as previsões individuais de cada classificador são combinadas por meio de votação para gerar a previsão final. Esse processo é geralmente usado para reduzir a variância de estimadores de caixa-preta (como o Random Forest), introduzindo randomização durante a construção do modelo e, em seguida, formando um conjunto a partir dessas iterações.\n",
    "\n",
    "## Implementação\n",
    "Abaixo segue a implemenação do algoritmo de **Bagging Classifier** da biblioteca **Scikit-learn**"
   ]
  },
  {
   "cell_type": "code",
   "execution_count": 1,
   "id": "b1cf7c83-d09e-4ab9-a29a-e5fdc62e7e26",
   "metadata": {},
   "outputs": [],
   "source": [
    "import pandas as pd\n",
    "import numpy as np\n",
    "\n",
    "import seaborn as sns\n",
    "import matplotlib.pyplot as plt\n",
    "\n",
    "from sklearn.model_selection import train_test_split\n",
    "from sklearn.ensemble import BaggingClassifier"
   ]
  },
  {
   "cell_type": "code",
   "execution_count": 2,
   "id": "0151be46-9cdc-47fc-a4aa-710be35cd158",
   "metadata": {},
   "outputs": [
    {
     "name": "stdout",
     "output_type": "stream",
     "text": [
      "default\n",
      "no         32588\n",
      "unknown     8597\n",
      "yes            3\n",
      "Name: count, dtype: int64\n",
      "(41188, 5)\n"
     ]
    }
   ],
   "source": [
    "data = pd.read_csv('../Mod_18/data/input/bank-additional-full.csv', sep=';')[['age', 'job', 'marital', 'education', 'default']]\n",
    "print(data['default'].value_counts())\n",
    "print(data.shape)"
   ]
  },
  {
   "cell_type": "markdown",
   "id": "3830990e-8881-4b37-8b84-402d9d108ce1",
   "metadata": {},
   "source": [
    "## Observação\n",
    "Para motivos de demonstração, iremos converter todos os valores 'unknown' para 'yes'"
   ]
  },
  {
   "cell_type": "code",
   "execution_count": 3,
   "id": "3bf0e4aa-6ffe-46ca-863e-4d7a27efe308",
   "metadata": {},
   "outputs": [
    {
     "data": {
      "text/plain": [
       "(41188, 5)"
      ]
     },
     "execution_count": 3,
     "metadata": {},
     "output_type": "execute_result"
    }
   ],
   "source": [
    "data.loc[data['default'] == 'unknown', 'default'] = 'yes'\n",
    "data['default'] = data['default'].map({'yes': 1, 'no': 0})\n",
    "data.shape"
   ]
  },
  {
   "cell_type": "code",
   "execution_count": 4,
   "id": "be4ee758-2f28-4cd5-aa74-95ae5f2259a7",
   "metadata": {},
   "outputs": [
    {
     "data": {
      "text/plain": [
       "default\n",
       "0    32588\n",
       "1     8600\n",
       "Name: count, dtype: int64"
      ]
     },
     "execution_count": 4,
     "metadata": {},
     "output_type": "execute_result"
    }
   ],
   "source": [
    "data = pd.concat([data.drop(['job', 'marital', 'education'], axis=1), pd.get_dummies(data[['job', 'marital', 'education']]).astype(np.int64)], axis=1)\n",
    "data['default'].value_counts()"
   ]
  },
  {
   "cell_type": "code",
   "execution_count": 5,
   "id": "21505e66-f4b6-4da8-986f-13c5c23cdbb4",
   "metadata": {},
   "outputs": [],
   "source": [
    "X, y = data.drop('default', axis=1), data['default']\n",
    "\n",
    "X_train, X_test, y_train, y_test = train_test_split(X, y, test_size=.3, train_size=.7, random_state=412)"
   ]
  },
  {
   "cell_type": "code",
   "execution_count": 6,
   "id": "abbbb38b-3a72-4000-8e3f-be630b762e9a",
   "metadata": {},
   "outputs": [
    {
     "name": "stdout",
     "output_type": "stream",
     "text": [
      "CPU times: total: 1min 57s\n",
      "Wall time: 1min 57s\n"
     ]
    }
   ],
   "source": [
    "%%time\n",
    "bagging = dict()\n",
    "estimators_sizes = range(100, 600, 50)\n",
    "\n",
    "for estimator in estimators_sizes:\n",
    "    bag = BaggingClassifier(n_estimators=estimator, warm_start=False, oob_score=True, random_state=412, verbose=0)\n",
    "    bag.fit(X_train, y_train)\n",
    "    bagging[str(estimator)] = bag"
   ]
  },
  {
   "cell_type": "code",
   "execution_count": 7,
   "id": "e76be232-303f-415d-ac8e-888c2bb77542",
   "metadata": {},
   "outputs": [
    {
     "data": {
      "image/png": "[encoded data removed]",
      "text/plain": [
       "<Figure size 640x480 with 1 Axes>"
      ]
     },
     "metadata": {},
     "output_type": "display_data"
    }
   ],
   "source": [
    "fig, ax = plt.subplots()\n",
    "\n",
    "sns.lineplot(x=bagging.keys(), y=[bag.score(X_test, y_test) for bag in bagging.values()], ax=ax, label='Teste')\n",
    "sns.lineplot(x=bagging.keys(), y=[bag.score(X_train, y_train) for bag in bagging.values()], ax=ax, label='Treino')\n",
    "\n",
    "ax.legend()\n",
    "plt.title('Score nas Bases de Treino e Teste por Nº de Estimadores')\n",
    "plt.show()"
   ]
  },
  {
   "cell_type": "markdown",
   "id": "3b710033-4eb1-4901-b7fa-be2752ce115c",
   "metadata": {},
   "source": [
    "## Resultados\n",
    "Observando o gráfico acima, é possível notar que o desempenho do modelo treinado na base de treino é constante, enquanto o seu desempenho flutua mais na base de teste, ainda assim, apresenta uma acurácia satisfatória."
   ]
  },
  {
   "cell_type": "code",
   "execution_count": null,
   "id": "943c2e6a-75f5-4b38-bce7-53f4f395fafa",
   "metadata": {},
   "outputs": [],
   "source": []
  }
 ],
 "metadata": {
  "kernelspec": {
   "display_name": "Python 3 (ipykernel)",
   "language": "python",
   "name": "python3"
  },
  "language_info": {
   "codemirror_mode": {
    "name": "ipython",
    "version": 3
   },
   "file_extension": ".py",
   "mimetype": "text/x-python",
   "name": "python",
   "nbconvert_exporter": "python",
   "pygments_lexer": "ipython3",
   "version": "3.12.3"
  }
 },
 "nbformat": 4,
 "nbformat_minor": 5
}
