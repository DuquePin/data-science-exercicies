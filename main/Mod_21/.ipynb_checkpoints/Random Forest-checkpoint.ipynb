{
 "cells": [
  {
   "cell_type": "markdown",
   "id": "acb291e8-bb03-40a2-aa4c-ad39215e30a1",
   "metadata": {},
   "source": [
    "# Random Forest\n",
    "## Conceito\n",
    "**Random Forest** é uma técnica de aprendizado de máquina baseada em bagging, que combina várias árvores de decisão para melhorar a precisão e reduzir a variabilidade (*overfitting*). A principal ideia por trás do Random Forest é criar um conjunto de árvores de decisão independentes e não correlacionadas, utilizando subconjuntos aleatórios tanto dos dados quanto dos atributos (*features*). Ao combinar as previsões de várias árvores, o modelo se beneficia da **Sabedoria da Multidão**, resultando em previsões mais robustas e generalizáveis do que uma única árvore de decisão.\n",
    "\n",
    "## Construção\n",
    "A técnica de Random Forest pode ser dividida em três passos principais: **bootstrap**, **feature randomization** (aleatorização de atributos) e **aggregating**.\n",
    "\n",
    "### Bootstrap\n",
    "A partir do conjunto de dados inicial *D*, são gerados vários subconjuntos de dados *d* por meio da amostragem com reposição (*bootstrap sampling*). Cada subconjunto *d* é então usado para treinar uma árvore de decisão independente.\n",
    "\n",
    "### Feature Randomization\n",
    "Além de treinar cada árvore em subconjuntos de dados, o Random Forest introduz uma aleatoriedade extra: em cada divisão de um nó da árvore, apenas um subconjunto aleatório dos atributos (*features*) é considerado para escolher a melhor divisão. Isso aumenta a diversificação entre as árvores e diminui a correlação entre elas, tornando o modelo mais robusto.\n",
    "\n",
    "### Aggregating\n",
    "As previsões de todas as árvores são combinadas: no caso de classificação, as previsões mais frequentes são usadas como a resposta final, e no caso de regressão, a média das previsões é usada. Esse processo de agregação diminui a variância do modelo e melhora a capacidade de generalização.\n",
    "\n",
    "### RandomForestClassifier\n",
    "O algoritmo **RandomForestClassifier** é uma implementação do Random Forest para tarefas de classificação. Ele ajusta diversas árvores de decisão em subconjuntos aleatórios dos dados e atributos, e depois combina suas previsões por meio de votação majoritária para fornecer uma previsão final mais precisa e confiável. A introdução da aleatoriedade nos dados e nos atributos ajuda a reduzir o overfitting e melhora a robustez do modelo em relação aos dados de treino.\n",
    "\n",
    "## Implementação\n",
    "Abaixo segue a implemenação do algoritmo de **Random Forest Classifier** da biblioteca **Scikit-learn**"
   ]
  },
  {
   "cell_type": "code",
   "execution_count": 1,
   "id": "ff429ceb-c24d-41c2-8aae-d117586eae10",
   "metadata": {},
   "outputs": [],
   "source": [
    "import pandas as pd\n",
    "import numpy as np\n",
    "\n",
    "import seaborn as sns\n",
    "import matplotlib.pyplot as plt\n",
    "\n",
    "from sklearn.model_selection import train_test_split\n",
    "from sklearn.ensemble import RandomForestClassifier"
   ]
  },
  {
   "cell_type": "code",
   "execution_count": 6,
   "id": "ca4daa03-a114-4b7c-b463-2311fa80c311",
   "metadata": {},
   "outputs": [
    {
     "name": "stdout",
     "output_type": "stream",
     "text": [
      "default\n",
      "no         32588\n",
      "unknown     8597\n",
      "yes            3\n",
      "Name: count, dtype: int64\n",
      "(41188, 5)\n"
     ]
    }
   ],
   "source": [
    "data = pd.read_csv('../Mod_18/data/input/bank-additional-full.csv', sep=';')[['age', 'job', 'marital', 'education', 'default']]\n",
    "print(data['default'].value_counts())\n",
    "print(data.shape)"
   ]
  },
  {
   "cell_type": "markdown",
   "id": "fcbee7f8-3213-4d53-903d-f0b53498b848",
   "metadata": {},
   "source": [
    "## Observação\n",
    "Para motivos de demonstração, iremos converter todos os valores 'unknown' para 'yes'"
   ]
  },
  {
   "cell_type": "code",
   "execution_count": 7,
   "id": "60f0ddd2-5760-49cd-997f-33ac3e28e5d7",
   "metadata": {},
   "outputs": [
    {
     "data": {
      "text/plain": [
       "(41188, 5)"
      ]
     },
     "execution_count": 7,
     "metadata": {},
     "output_type": "execute_result"
    }
   ],
   "source": [
    "data.loc[data['default'] == 'unknown', 'default'] = 'yes'\n",
    "data['default'] = data['default'].map({'yes': 1, 'no': 0})\n",
    "data.shape"
   ]
  },
  {
   "cell_type": "code",
   "execution_count": 8,
   "id": "05b57bfe-f8ce-49c5-9226-73aa5e9724a3",
   "metadata": {},
   "outputs": [
    {
     "data": {
      "text/plain": [
       "default\n",
       "0    32588\n",
       "1     8600\n",
       "Name: count, dtype: int64"
      ]
     },
     "execution_count": 8,
     "metadata": {},
     "output_type": "execute_result"
    }
   ],
   "source": [
    "data = pd.concat([data.drop(['job', 'marital', 'education'], axis=1), pd.get_dummies(data[['job', 'marital', 'education']]).astype(np.int64)], axis=1)\n",
    "data['default'].value_counts()"
   ]
  },
  {
   "cell_type": "code",
   "execution_count": 9,
   "id": "5fe3aaaf-b656-4fea-9046-ea10e85ec332",
   "metadata": {},
   "outputs": [],
   "source": [
    "X, y = data.drop('default', axis=1), data['default']\n",
    "\n",
    "X_train, X_test, y_train, y_test = train_test_split(X, y, test_size=.3, train_size=.7, random_state=412)"
   ]
  },
  {
   "cell_type": "code",
   "execution_count": 10,
   "id": "965028cd-ba9f-49db-a2ef-367c8a644d4b",
   "metadata": {},
   "outputs": [
    {
     "name": "stdout",
     "output_type": "stream",
     "text": [
      "CPU times: total: 55.1 s\n",
      "Wall time: 55.7 s\n"
     ]
    }
   ],
   "source": [
    "%%time\n",
    "rfcs = dict()\n",
    "estimators_sizes = range(100, 600, 50)\n",
    "\n",
    "for estimator in estimators_sizes:\n",
    "    rfc = RandomForestClassifier(n_estimators=estimator, warm_start=True, oob_score=True, random_state=412, verbose=0)\n",
    "    rfc.fit(X_train, y_train)\n",
    "    rfcs[str(estimator)] = rfc"
   ]
  },
  {
   "cell_type": "code",
   "execution_count": 11,
   "id": "f6ce3f81-c6aa-4ca8-8bb0-14d48e289335",
   "metadata": {},
   "outputs": [
    {
     "data": {
      "image/png": "[encoded data removed]",
      "text/plain": [
       "<Figure size 640x480 with 1 Axes>"
      ]
     },
     "metadata": {},
     "output_type": "display_data"
    }
   ],
   "source": [
    "fig, ax = plt.subplots()\n",
    "\n",
    "sns.lineplot(x=rfcs.keys(), y=[rfc.score(X_test, y_test) for rfc in rfcs.values()], ax=ax, label='Teste')\n",
    "sns.lineplot(x=rfcs.keys(), y=[rfc.score(X_train, y_train) for rfc in rfcs.values()], ax=ax, label='Treino')\n",
    "\n",
    "ax.legend()\n",
    "plt.title('Score nas Bases de Treino e Teste por Nº de Estimadores')\n",
    "plt.show()"
   ]
  },
  {
   "cell_type": "markdown",
   "id": "80d56dd7-4d67-47b2-8de4-c783a0c57770",
   "metadata": {},
   "source": [
    "## Resultados\n",
    "Observando o gráfico acima, é possível notar que o desempenho do modelo treinado na base de treino é constante, enquanto o seu desempenho flutua mais na base de teste, ainda assim, apresenta uma acurácia satisfatória. Muito semelhante ao desempenho do algoritmo **BaggingClassifier**, isso porque o mesmo foi implementado passando o argumento padrão **ClassifierTree**, resultando em resultados se não idênticos, semelhantes."
   ]
  },
  {
   "cell_type": "markdown",
   "id": "c46ac885-a3f1-476e-aa54-3b9871e3d445",
   "metadata": {},
   "source": [
    "# Diferenças entre os Algoritmos\n",
    "A principal diferença entre os algoritmos **Bagging** e **Random Forest** é a especialização. Modelos Random Forest utilizam as mesmas técnias que os modelos Bagging, exceto que o estimador base é **sempre** uma árvore de decisão com a adoção de um passo a mais, o **feature randomization** que serve para torna as árvores criadas mais independentes, tornando o modelo mais robusto e menos enviesado."
   ]
  },
  {
   "cell_type": "code",
   "execution_count": null,
   "id": "f6ce2e1b-7ae2-44da-98c7-9c1463d4eb85",
   "metadata": {},
   "outputs": [],
   "source": []
  }
 ],
 "metadata": {
  "kernelspec": {
   "display_name": "Python 3 (ipykernel)",
   "language": "python",
   "name": "python3"
  },
  "language_info": {
   "codemirror_mode": {
    "name": "ipython",
    "version": 3
   },
   "file_extension": ".py",
   "mimetype": "text/x-python",
   "name": "python",
   "nbconvert_exporter": "python",
   "pygments_lexer": "ipython3",
   "version": "3.12.3"
  }
 },
 "nbformat": 4,
 "nbformat_minor": 5
}
